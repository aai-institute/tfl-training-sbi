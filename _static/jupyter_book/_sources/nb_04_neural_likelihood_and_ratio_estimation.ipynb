{
 "cells": [
  {
   "cell_type": "code",
   "execution_count": 9,
   "metadata": {
    "hide_input": true,
    "init_cell": true,
    "slideshow": {
     "slide_type": "skip"
    },
    "tags": [
     "remove-input",
     "remove-output",
     "remove-input-nbconv",
     "remove-output-nbconv"
    ]
   },
   "outputs": [],
   "source": [
    "%%capture\n",
    "\n",
    "%load_ext autoreload\n",
    "%autoreload 2\n",
    "%matplotlib inline\n",
    "%load_ext tfl_training_sbi"
   ]
  },
  {
   "cell_type": "code",
   "execution_count": 10,
   "metadata": {
    "hide_input": true,
    "init_cell": true,
    "slideshow": {
     "slide_type": "skip"
    },
    "tags": [
     "remove-input",
     "remove-input-nbconv"
    ]
   },
   "outputs": [
    {
     "data": {
      "text/html": [
       "<style>/*\n",
       "This file is mainly copy-pasta from rise's examples\n",
       "https://github.com/damianavila/RISE/blob/master/examples/rise.css\n",
       "that was further customized for appliedAI purposes\n",
       "*/\n",
       "@import url('https://fonts.googleapis.com/css2?family=Work+Sans:wght@400&display=swap');\n",
       "\n",
       "\n",
       "body {\n",
       "    font-family: 'Work Sans', sans-serif !important;\n",
       "    text-transform: initial !important;\n",
       "    letter-spacing: initial !important;\n",
       "    font-weight: 400 !important;\n",
       "    line-height: 1.5 !important;\n",
       "    text-size-adjust: 100% !important;\n",
       "    ‑webkit‑text‑size‑adjust: 100% !important;\n",
       "}\n",
       "\n",
       "\n",
       ".reveal, div.text_cell_render, .md-slide, .sidebar-wrapper {\n",
       "    font-size: 1.5rem !important;\n",
       "}\n",
       "\n",
       ".navbar-default .navbar-nav > li > a {\n",
       "    color: #00747b !important;\n",
       "}\n",
       "\n",
       ".filename {\n",
       "    font-size: 2.4rem !important;\n",
       "    color: #212529 !important;\n",
       "    font-weight: 600 !important;\n",
       "}\n",
       "\n",
       ".reveal, .md-slide {\n",
       "    color: white !important;\n",
       "}\n",
       "\n",
       "h1, h2 {\n",
       "    color: #00747b !important;\n",
       "}\n",
       "\n",
       "h3, h4, h5, h6 {\n",
       "    color: #808080 !important;\n",
       "}\n",
       "\n",
       ".reveal p, .reveal ol, .reveal dl, .reveal ul,\n",
       "div.text_cell_render {\n",
       "    color: #212529 !important;\n",
       "}\n",
       "\n",
       "/*copied from stackoverflow, better spacing between list items*/\n",
       "li + li {\n",
       "  margin-top: 0.2em;\n",
       "}\n",
       "\n",
       "body.rise-enabled .reveal ol, body.rise-enabled .reveal dl, body.rise-enabled .reveal ul {\n",
       "    margin-left: 0.1em;\n",
       "    margin-top: 0.2em;\n",
       "}\n",
       "\n",
       ".reveal .rendered_html h1:first-child,\n",
       ".reveal .rendered_html h2:first-child,\n",
       ".reveal .rendered_html h3:first-child,\n",
       ".reveal .rendered_html h4:first-child,\n",
       ".reveal .rendered_html h5:first-child {\n",
       "    margin-top: 0.2em;\n",
       "}\n",
       "\n",
       ".CodeMirror-lines, .output_text {\n",
       "    font-size: 1.5rem !important;\n",
       "}\n",
       "\n",
       "\n",
       "h1.plan, h2.plan, h3.plan {\n",
       "    text-align: center;\n",
       "    padding-bottom: 30px;\n",
       "}\n",
       "\n",
       "ul.plan>li>span.plan-bold {\n",
       "    font-size: 110%;\n",
       "    padding: 4px;\n",
       "    font-weight: bold;\n",
       "    background-color: #eee;\n",
       "}\n",
       "\n",
       "ul.plan>li>ul.subplan>li>span.plan-bold {\n",
       "    font-weight: bold;\n",
       "}\n",
       "\n",
       ".plan-strike {\n",
       "    opacity: 0.4;\n",
       "/*    text-decoration: line-through; */\n",
       "}\n",
       "\n",
       "div.plan-container {\n",
       "    display: grid;\n",
       "    grid-template-columns: 50% 50%;\n",
       "}\n",
       "\n",
       "/*\n",
       " * this is to void xarray's html output to show the fallback textual representation\n",
       " * see also\n",
       "   * xarray.md and\n",
       "   * https://github.com/damianavila/RISE/issues/594\n",
       " */\n",
       ".reveal pre.xr-text-repr-fallback {\n",
       "    display: none;\n",
       "}\n",
       "\n",
       "#toc-header, .toc-item li {\n",
       "    margin: auto !important;\n",
       "    color: #808080 !important;\n",
       "}\n",
       "\n",
       "#toc, #toc-wrapper, .toc-item-num, #toc a, .toc {\n",
       "    margin: auto !important;\n",
       "    color: #00747b !important;\n",
       "}\n",
       "\n",
       "#toc-wrapper {\n",
       "    top: auto !important;\n",
       "    bottom: auto !important;\n",
       "    margin-top: 2rem !important;\n",
       "    color: #00747b !important;\n",
       "}\n",
       "\n",
       "\n",
       "#rise-header {\n",
       "    margin: 10px;\n",
       "    left: 5%;\n",
       "}\n",
       "\n",
       "#rise-footer {\n",
       "    margin: 10px;\n",
       "    right: 5%;\n",
       "}\n",
       "\n",
       "#rise-backimage {\n",
       "    opacity: 0.70;\n",
       "}\n",
       "\n",
       ".reveal img {\n",
       "    max-width: 100%;\n",
       "}\n",
       "\n",
       "\n",
       ".md-slide.title {\n",
       "  position: relative;\n",
       "  top: -50%;\n",
       "  margin-left: 5%;\n",
       "}</style>"
      ],
      "text/plain": [
       "<IPython.core.display.HTML object>"
      ]
     },
     "execution_count": 10,
     "metadata": {},
     "output_type": "execute_result"
    }
   ],
   "source": [
    "%presentation_style"
   ]
  },
  {
   "cell_type": "code",
   "execution_count": 11,
   "metadata": {
    "hide_input": true,
    "init_cell": true,
    "slideshow": {
     "slide_type": "skip"
    },
    "tags": [
     "remove-input",
     "remove-output",
     "remove-input-nbconv",
     "remove-output-nbconv"
    ]
   },
   "outputs": [],
   "source": [
    "%%capture\n",
    "\n",
    "%set_random_seed 12"
   ]
  },
  {
   "cell_type": "code",
   "execution_count": 12,
   "metadata": {
    "hide_input": true,
    "init_cell": true,
    "slideshow": {
     "slide_type": "skip"
    },
    "tags": [
     "remove-input-nbconv",
     "remove-cell"
    ]
   },
   "outputs": [
    {
     "data": {
      "text/markdown": [
       "\n",
       "$\\newcommand{\\vect}[1]{{\\mathbf{\\boldsymbol{#1}} }}$\n",
       "$\\newcommand{\\amax}{{\\text{argmax}}}$\n",
       "$\\newcommand{\\P}{{\\mathbb{P}}}$\n",
       "$\\newcommand{\\E}{{\\mathbb{E}}}$\n",
       "$\\newcommand{\\R}{{\\mathbb{R}}}$\n",
       "$\\newcommand{\\Z}{{\\mathbb{Z}}}$\n",
       "$\\newcommand{\\N}{{\\mathbb{N}}}$\n",
       "$\\newcommand{\\C}{{\\mathbb{C}}}$\n",
       "$\\newcommand{\\abs}[1]{{ \\left| #1 \\right| }}$\n",
       "$\\newcommand{\\simpl}[1]{{\\Delta^{#1} }}$\n"
      ],
      "text/plain": [
       "<IPython.core.display.Markdown object>"
      ]
     },
     "metadata": {},
     "output_type": "display_data"
    }
   ],
   "source": [
    "%load_latex_macros"
   ]
  },
  {
   "cell_type": "markdown",
   "metadata": {
    "slideshow": {
     "slide_type": "slide"
    }
   },
   "source": [
    "<img src=\"_static/images/aai-institute-cover.png\" alt=\"Snow\" style=\"width:100%;\">\n",
    "<div class=\"md-slide title\">\n",
    "    <h1>Neural Likelihood and Ratio Estimation</h1>\n",
    "</div>"
   ]
  },
  {
   "cell_type": "code",
   "execution_count": 13,
   "metadata": {
    "slideshow": {
     "slide_type": "skip"
    }
   },
   "outputs": [],
   "source": [
    "import math\n",
    "import matplotlib.pyplot as plt\n",
    "import sbi.analysis\n",
    "import sbi.inference\n",
    "import sbi.utils\n",
    "import torch\n",
    "import warnings\n",
    "\n",
    "from sbi.utils import process_prior\n",
    "from torch.distributions import LogNormal\n",
    "from torch.utils.data import DataLoader\n",
    "from torchvision.transforms import Compose\n",
    "from tqdm.notebook import trange, tqdm\n",
    "\n",
    "from tfl_training_sbi.config import (\n",
    "    default_remote_storage,\n",
    "    get_config,\n",
    "    root_dir,\n",
    ")\n",
    "from tfl_training_sbi.data_utils import (\n",
    "    SIRSimulation,\n",
    "    load_sir_data,\n",
    ")\n",
    "from tfl_training_sbi.utils_models import save_posterior_obj\n",
    "from tfl_training_sbi.utils_sir import eval_sir_model\n",
    "\n",
    "# set manual seed for reproducibility\n",
    "_ = torch.manual_seed(0)\n",
    "\n",
    "# ignore user warnings\n",
    "warnings.filterwarnings(\"ignore\")\n",
    "\n",
    "# configure storage location\n",
    "storage = default_remote_storage()\n",
    "c = get_config(reload=True)"
   ]
  },
  {
   "cell_type": "markdown",
   "metadata": {
    "slideshow": {
     "slide_type": "slide"
    }
   },
   "source": [
    "## Outline\n",
    "\n",
    " - Recap of Neural Posterior Estimation \n",
    " - Introduction to Neural Likelihood Estimation (NLE)\n",
    " - Intro to SBI Python package `sbi`\n",
    " - Exercise \n",
    " - Neural Ratio Estimation (NRE)\n",
    " - Pros & Cons of all three methods\n",
    "  "
   ]
  },
  {
   "cell_type": "markdown",
   "metadata": {
    "slideshow": {
     "slide_type": "slide"
    }
   },
   "source": [
    "## Recap: the Goal of SBI\n",
    "\n",
    "- We want to learn the posterior $p(\\theta | \\mathbf{x})$ of a simulator $\\mathcal{M}$ given some data $\\mathbf{x}$\n",
    "- We do so using Bayes rule: \n",
    "    $$\n",
    "    p(\\theta | \\mathbf{x}) = \\frac{p(\\mathbf{x} | \\theta)\n",
    "    p(\\theta)}{p(\\mathbf{x})}\n",
    "    $$\n",
    "- However, the Likelihood is usually intractable\n",
    "- We overcome this challenge by learning a conditional density estimator $q_{\\phi}(\\theta | x)$ from simulated data $(\\theta_i, x_i) \\sim p(x \\mid \\theta)p(\\theta)$\n"
   ]
  },
  {
   "cell_type": "markdown",
   "metadata": {
    "slideshow": {
     "slide_type": "slide"
    }
   },
   "source": [
    "## Recap: Neural Posterior Estimation\n",
    "\n",
    "- Direct mapping from observations $\\mathbf{x}$ to posterior $p(\\theta|\\mathbf{x})$\n",
    "- E.g. learning Gaussian mixture, parameterized by neural network"
   ]
  },
  {
   "cell_type": "markdown",
   "metadata": {
    "slideshow": {
     "slide_type": "slide"
    }
   },
   "source": [
    "## The Likelihood\n",
    "\n",
    "- The Likelihood is the conditional probability density of the data given the model parameters, i.e. $p(\\mathbf{x}|\\theta)$\n",
    "- This is a density function in $\\mathbf{x}$ for fixed $\\theta$"
   ]
  },
  {
   "cell_type": "markdown",
   "metadata": {
    "slideshow": {
     "slide_type": "slide"
    }
   },
   "source": [
    "## Learning the Likelihood with a Neural Network\n",
    "\n",
    "- NLE learns $p(\\mathbf{x}|\\theta)$ instead of $p(\\theta|\\mathbf{x})$\n",
    "- Both are conditional density estimation problems ([NB 02](nb_02_conditional_density_estimation.ipynb))\n",
    "- NLE is a Maximum Likelihood Estimation problem on $\\{(\\theta, \\mathbf{x})_i\n",
    "  \\}^N_{i=1}$ where $\\mathcal{M}(\\theta_i) = \\mathbf{x}_i$\n",
    "- We can obtain posterior samples via $\\hat{p}(\\theta \\mid \\mathbf{x}) \\propto p(\\theta\\mid\\mathbf{x})p(\\theta)$, using MCMC or variational inference\n"
   ]
  },
  {
   "cell_type": "markdown",
   "metadata": {
    "slideshow": {
     "slide_type": "slide"
    }
   },
   "source": [
    "## Sampling from the NLE Posterior \n",
    "\n",
    "- In contrast to NPE, NLE and NRE require MCMC to sample from the posterior\n",
    "- This should be taken into account when deciding which method to use\n",
    "- We refer to the training _Introduction to Bayesian Machine Learning_ for a\n",
    "  more in-depth coverage of accessing the posterior with MCMC\n"
   ]
  },
  {
   "cell_type": "markdown",
   "metadata": {
    "slideshow": {
     "slide_type": "slide"
    }
   },
   "source": [
    "## Why should I use NLE?\n",
    "\n",
    "The goal is to obtain the posterior $p(\\theta \\mid \\mathbf{x})$, why learn\n",
    "$p(\\mathbf{x} \\mid \\theta)$?\n",
    "\n",
    " - We learn the likelihood for a single $x_i$: efficient for i.i.d. observations\n",
    " - Hierarchical inference: no re-training when I change the hierarchy.\n",
    " - Advantage when $\\operatorname{dim}(\\theta) \\gg \\operatorname{dim}(\\mathbf{x})$\n",
    " - We obtain an emulator: replace expensive simulators\n",
    " - No correction for sequential learning "
   ]
  },
  {
   "cell_type": "markdown",
   "metadata": {
    "slideshow": {
     "slide_type": "slide"
    }
   },
   "source": [
    "## Quick Intro to the `sbi` Toolkit\n",
    "\n",
    "- Open Source Software for SBI on [GitHub](https://sbi-dev.github.io/sbi/)\n",
    "- User-friendly implementations of: \n",
    "    - ABC, \n",
    "    - (S)NPE, (S)NLE, (S)NRE\n",
    "    - MCMC, variational inference\n",
    "    - analysis tools\n",
    "    - plotting"
   ]
  },
  {
   "cell_type": "code",
   "execution_count": 14,
   "metadata": {
    "slideshow": {
     "slide_type": "subslide"
    }
   },
   "outputs": [],
   "source": [
    "# define a uninformative prior\n",
    "num_dims = 2\n",
    "num_simulations = 1000\n",
    "prior = sbi.utils.BoxUniform(\n",
    "    low=torch.zeros(num_dims), high=torch.ones(num_dims) * 2\n",
    ")\n",
    "\n",
    "\n",
    "# define a simple simulator\n",
    "def example_simulator(theta: torch.tensor):\n",
    "    return theta + torch.randn_like(theta) * 0.1\n",
    "\n",
    "\n",
    "# obtain samples from joint distribution\n",
    "thetas = prior.sample((num_simulations,))\n",
    "x = example_simulator(thetas)\n",
    "\n",
    "\n",
    "# use the first sample as observation\n",
    "thetas, theta_obs = thetas[1:, :], thetas[0, :]\n",
    "x, x_obs = x[1:, :], x[0, :]"
   ]
  },
  {
   "cell_type": "code",
   "execution_count": 15,
   "metadata": {
    "slideshow": {
     "slide_type": "subslide"
    }
   },
   "outputs": [
    {
     "name": "stdout",
     "output_type": "stream",
     "text": [
      " Neural network successfully converged after 88 epochs."
     ]
    }
   ],
   "source": [
    "# obtain a posterior approx. via NPE\n",
    "inference = sbi.inference.SNPE(prior=prior, density_estimator=\"mdn\")  # also supports flows!\n",
    "density_estimator = inference.append_simulations(thetas, x).train(training_batch_size=100)\n",
    "posterior = inference.build_posterior(density_estimator)"
   ]
  },
  {
   "cell_type": "code",
   "execution_count": 16,
   "metadata": {
    "slideshow": {
     "slide_type": "subslide"
    }
   },
   "outputs": [
    {
     "data": {
      "application/vnd.jupyter.widget-view+json": {
       "model_id": "6ff13ccc1d5344f0a7528b90153964de",
       "version_major": 2,
       "version_minor": 0
      },
      "text/plain": [
       "Drawing 10000 posterior samples:   0%|          | 0/10000 [00:00<?, ?it/s]"
      ]
     },
     "metadata": {},
     "output_type": "display_data"
    },
    {
     "data": {
      "image/png": "[encoded data removed]",
      "text/plain": [
       "<Figure size 1000x1000 with 4 Axes>"
      ]
     },
     "metadata": {},
     "output_type": "display_data"
    }
   ],
   "source": [
    "samples = posterior.sample((10_000,), x=x_obs)\n",
    "sbi.analysis.pairplot(samples=samples, points=theta_obs, points_colors=\"r\", limits=[[0, 2]]*2);"
   ]
  },
  {
   "cell_type": "markdown",
   "metadata": {
    "slideshow": {
     "slide_type": "slide"
    }
   },
   "source": [
    "## Exercise: Application of NLE on the SIR Dataset\n",
    "\n",
    "We will use the same data as in the previous notebook, but now we will use the\n",
    "neural likelihood estimator to construct the posterior.\n",
    "\n",
    "**Task 1:** Load the pre-simulated SIR data set from disk and split it into a training and test set (a single pair of \"observed\" `(theta_o, x_o)`). \n",
    "\n",
    "Note that `sbi` standardizes the data automatically. Therefore, the scaling step we performed in notebook 3 can be omitted.\n"
   ]
  },
  {
   "cell_type": "code",
   "execution_count": 17,
   "metadata": {
    "slideshow": {
     "slide_type": "subslide"
    }
   },
   "outputs": [],
   "source": [
    "# %load -r 6-12 solutions/solutions_nb_04.py\n",
    "# load the pre-simulated data from disk\n",
    "data_theta, data_x = load_sir_data(c.data)\n",
    "\n",
    "# separate the \"observed\" data from the training data\n",
    "theta_obs, x_obs = data_theta[0, :], data_x[0, :]\n",
    "theta_train, x_train = data_theta[1:, :], data_x[1:, :]\n"
   ]
  },
  {
   "cell_type": "markdown",
   "metadata": {
    "slideshow": {
     "slide_type": "slide"
    }
   },
   "source": [
    "**Task 2:** Furthermore, we have to define a suitable prior to the task. As defined in the benchmarking paper by Lueckmann et al., we'll use a LogNormal distribution with the following parameters:\n",
    " - $\\theta_1 \\sim \\operatorname{LogNormal}(\\log 0.4, 0.5^2)$\n",
    " - $\\theta_2 \\sim \\operatorname{LogNormal}(\\log 0.125, 0.2^2)$\n",
    " \n",
    "Hint: `sbi` has a method `process_prior` (imported above) that takes as input a list of `torch` distributions and combines the entries in the list into a single joint prior distribution."
   ]
  },
  {
   "cell_type": "code",
   "execution_count": 18,
   "metadata": {
    "slideshow": {
     "slide_type": "subslide"
    }
   },
   "outputs": [],
   "source": [
    "# %load -r 15-21 solutions/solutions_nb_04.py\n",
    "prior, _, _ = process_prior(\n",
    "    [\n",
    "        LogNormal(loc=torch.tensor([math.log(0.4)]), scale=torch.tensor([0.5])),\n",
    "        LogNormal(loc=torch.tensor([math.log(0.125)]), scale=torch.tensor([0.2])),\n",
    "    ]\n",
    ")\n"
   ]
  },
  {
   "cell_type": "markdown",
   "metadata": {
    "slideshow": {
     "slide_type": "slide"
    }
   },
   "source": [
    "**Task 3:** Finally, we can train the NDE. To that end, we have to initialize a SNLE object with the respective prior and method for density estimation. Further, the training data has to be passed to the inference object. The NDE is trained by calling the `.train()` method on the inference object. Feel free to use the above example as blueprint. "
   ]
  },
  {
   "cell_type": "code",
   "execution_count": 19,
   "metadata": {
    "slideshow": {
     "slide_type": "subslide"
    }
   },
   "outputs": [
    {
     "name": "stdout",
     "output_type": "stream",
     "text": [
      " Neural network successfully converged after 196 epochs."
     ]
    }
   ],
   "source": [
    "# %load -r 24-30 solutions/solutions_nb_04.py\n",
    "# obtain a posterior approx. via NPE\n",
    "inference = sbi.inference.SNLE(prior=prior, density_estimator=\"maf\")\n",
    "density_estimator = inference.append_simulations(theta_train, x_train).train(\n",
    "    training_batch_size=1024, learning_rate=1e-4, max_num_epochs=200\n",
    ")\n",
    "posterior = inference.build_posterior(density_estimator, sample_with=\"mcmc\")\n"
   ]
  },
  {
   "cell_type": "markdown",
   "metadata": {
    "slideshow": {
     "slide_type": "subslide"
    }
   },
   "source": [
    "## Saving the Inference Object \n",
    "\n",
    "The training process of NLE inference objects can take long. Therefore, saving\n",
    "the inference objects is advised. "
   ]
  },
  {
   "cell_type": "code",
   "execution_count": 20,
   "metadata": {
    "slideshow": {
     "slide_type": "fragment"
    }
   },
   "outputs": [],
   "source": [
    "# saving the inference object for possible later use\n",
    "save_posterior_obj(\"../notebooks/models/snle_sir.pl\", inference)"
   ]
  },
  {
   "cell_type": "markdown",
   "metadata": {
    "slideshow": {
     "slide_type": "slide"
    }
   },
   "source": [
    "## Let's Investigate the Learned Posterior \n",
    "\n",
    "In order to investigate the quality of approximation, we'll sample a large\n",
    "number of $\\theta$ from the posterior $p(\\theta \\mid\n",
    "\\mathbf{x}_o)$ using MCMC sampling.\n",
    "\n",
    "Then, we'll compare the resulting distribution to the actual $\\theta^{\\ast}$ that was\n",
    "used to generate $\\mathbf{x}_o$.  \n",
    "\n",
    "**Task 4:** Similar to the example above, use the posterior, conditioned on `x_obs` to sample 1000 $\\theta$s. Then, plot the resulting samples using the `pairplot` method, provided by the `sbi` toolkit. \n",
    "\n",
    "**Note** that because you are using `NLE`, you are effectively using `MCMC` to sample from the posterior (happens by default). To make sampling faster, we recommend passing `method=\"slice_np_vectorized\"` and `num_chains=10` to `sample(...)`. \n",
    "\n",
    "Optional: Use `pairplot` to additionally plot the prior samples as a comparison, e.g., by passing a list of samples `[prior_samples, posterior_sample]`. Use `offdiag=\"scatter\"` option to plot the joint as a scatter plot for better visual comparison."
   ]
  },
  {
   "cell_type": "code",
   "execution_count": 21,
   "metadata": {
    "slideshow": {
     "slide_type": "subslide"
    }
   },
   "outputs": [
    {
     "data": {
      "application/vnd.jupyter.widget-view+json": {
       "model_id": "37c5286606a443e79addfe2ccde4e329",
       "version_major": 2,
       "version_minor": 0
      },
      "text/plain": [
       "Running vectorized MCMC with 10 chains:   0%|          | 0/11000 [00:00<?, ?it/s]"
      ]
     },
     "metadata": {},
     "output_type": "display_data"
    },
    {
     "data": {
      "image/png": "[encoded data removed]",
      "text/plain": [
       "<Figure size 1000x1000 with 4 Axes>"
      ]
     },
     "metadata": {},
     "output_type": "display_data"
    }
   ],
   "source": [
    "# %load -r 33-45 solutions/solutions_nb_04.py\n",
    "num_samples = 1000\n",
    "posterior_samples = posterior.sample(\n",
    "    (num_samples,), x=x_obs, method=\"slice_np_vectorized\", num_chains=10\n",
    ")\n",
    "prior_samples = theta_train\n",
    "_ = sbi.analysis.pairplot(\n",
    "    [prior_samples[:num_samples], posterior_samples],\n",
    "    points=theta_obs,\n",
    "    points_colors=\"r\",\n",
    "    offdiag=\"scatter\",\n",
    "    hist_diag=dict(bins=\"auto\", density=True),\n",
    ")\n"
   ]
  },
  {
   "cell_type": "markdown",
   "metadata": {
    "slideshow": {
     "slide_type": "slide"
    }
   },
   "source": [
    "## Neural Ratio Estimation \n",
    "\n",
    "- The Likelihood-ratio is a popular test statistic,  \n",
    "\n",
    "    $$\n",
    "    r(\\mathbf{x} \\mid \\theta_0, \\theta_1) = \\frac{p(\\mathbf{x} \\mid \\theta_0)}{p(\\mathbf{x} \\mid \\theta_1)}\n",
    "    $$\n",
    "    \n",
    "- The ratio also appears in the MCMC sampling scheme - having access to it allows us to run MCMC\n",
    "\n",
    "- idea for SBI: approximate the ratio to enable MCMC.\n",
    "\n",
    "- Cranmer et al (2015) showed that $r(\\mathbf{x}\\mid \\theta_0, \\theta_1)$\n",
    "  can be approximated by a classifier $d(\\mathbf{x}, \\theta)$ trained on\n",
    "  samples from the true $p(\\mathbf{x} \\mid \\theta)$ (label $y=1$) and an arbitrary but fixed\n",
    "  hypothesis $p(\\mathbf{x} \\mid \\theta_{\\text{ref}})$ (label $y=0$).\n",
    "\n",
    "    $$\n",
    "    \\begin{align}\n",
    "    d(\\mathbf{x}, \\theta) &= p(y=1 \\mid \\mathbf{x}) =\n",
    "    \\frac{p(\\mathbf{x}\\mid \\theta)}{p(\\mathbf{x}\\mid \\theta) + p(\\mathbf{x}\\mid\n",
    "    \\theta_{\\text{ref}})}  \\\\\n",
    "    r(\\mathbf{x} \\mid \\theta_0, \\theta_1) &= \\frac{d(\\mathbf{x},\n",
    "    \\theta)}{ 1 - d(\\mathbf{x}, \\theta) }\n",
    "    \\end{align}\n",
    "    $$\n"
   ]
  },
  {
   "cell_type": "markdown",
   "metadata": {
    "slideshow": {
     "slide_type": "slide"
    }
   },
   "source": [
    "## Considerations about NRE\n",
    "\n",
    "- Same concept as NLE but training a classifier rather than a density estimator (can be easier)\n",
    "- Sampling via MCMC or VI\n",
    "- Allows learning **embeddings for both** $x$ and $\\theta$. "
   ]
  },
  {
   "cell_type": "markdown",
   "metadata": {
    "slideshow": {
     "slide_type": "slide"
    }
   },
   "source": [
    "## Usage of NRE\n",
    "\n",
    "- NRE is also implemented in the `sbi` toolkit\n",
    "\n",
    "    ```python\n",
    "    inference = sbi.inference.SNRE(prior)\n",
    "    density_estimator = inference.append_simulations(thetas, x).train()\n",
    "    posterior = inference.build_posterior(density_estimator)\n",
    "    ```"
   ]
  },
  {
   "cell_type": "markdown",
   "metadata": {
    "slideshow": {
     "slide_type": "slide"
    }
   },
   "source": [
    "## Practical Considerations for NPE vs. NLE and NRE\n",
    "\n",
    "- NPE enables fully amortized inference: train once, infer for many different $x_o$ in no-time.\n",
    "- NLE and NRE require MCMC; success depends on the shape and dimension of the posterior \n",
    "- Sequential approaches are helpful for high dimensional problems or costly\n",
    "  simulations. However, SNPE requires a correction term that can make training unstable, SNLE and SNRE require running MCMC for every round.\n",
    "- The type of embeddings that can be learned depend on the method: \n",
    "    - Neural networks can take high dimensional inputs easily. \n",
    "    - NPE can learn embeddings for `x`: helpful when $\\dim(\\mathbf{x}) \\gg \\dim(\\theta)$\n",
    "    - NLE can learn embeddings for `theta`: helpful when $\\dim(\\mathbf{x}) \\ll \\dim(\\theta)$\n",
    "    - NRE can learn embeddings for both \n",
    "- embedding network should take into account the structure of the data. E.g. CNNs for images or RNNs for sequential data.\n",
    "\n",
    "SBI is an active field of research: new methods and improvements are appearing regularly, e.g., score matching or flow matching methods for SBI. \n",
    "\n",
    "`sbi` package is actively developed (and there are other packages too).\n"
   ]
  },
  {
   "cell_type": "markdown",
   "metadata": {
    "slideshow": {
     "slide_type": "slide"
    }
   },
   "source": [
    "## Summary \n",
    "\n",
    "| Method | Pros | Cons |\n",
    "|:---|:---|:---|\n",
    "|NPE | Amortized inference | Sequential version requires correction |\n",
    "|NLE | Likelihood factors for i.i.d. samples, easy usage for hierarchical  problems | Requires MCMC, can be constly in higher dimensions |\n",
    "|NRE | Likelihood factors for i.i.d. samples, training a classifier is easier than training an NDE | Requires MCMC \n"
   ]
  },
  {
   "cell_type": "markdown",
   "metadata": {
    "slideshow": {
     "slide_type": "slide"
    }
   },
   "source": [
    "## References\n",
    "\n",
    "- sbi: A toolkit for simulation-based inference;\n",
    "  [GitHub](https://www.mackelab.org/sbi/credits/)\n",
    "- Cranmer et al. (2015), _\"Approximating Likelihood Ratios with Calibrated Discriminative Classifiers\"_\n",
    "- Lueckmann et al. (2021), _\"Benchmarking Simulation-Based Inference\"_"
   ]
  },
  {
   "cell_type": "markdown",
   "metadata": {
    "slideshow": {
     "slide_type": "slide"
    },
    "tags": [
     "remove-cell",
     "remove-cell-nbconv"
    ]
   },
   "source": [
    "<img src=\"_static/images/aai-institute-cover.png\" alt=\"Snow\" style=\"width:100%;\">\n",
    "<div class=\"md-slide title\">\n",
    "    <h2>Thank you for your attention!</h2>\n",
    "</div>"
   ]
  }
 ],
 "metadata": {
  "celltoolbar": "Slideshow",
  "kernelspec": {
   "display_name": "Python 3 (ipykernel)",
   "language": "python",
   "name": "python3"
  },
  "language_info": {
   "codemirror_mode": {
    "name": "ipython",
    "version": 3
   },
   "file_extension": ".py",
   "mimetype": "text/x-python",
   "name": "python",
   "nbconvert_exporter": "python",
   "pygments_lexer": "ipython3",
   "version": "3.10.13"
  },
  "rise": {
   "footer": "<img src='_static/images/aai-logo.png' alt='logo' height='50em'>",
   "header": "<img src='_static/images/transferlab-logo.svg' alt='logo' height='20em' />",
   "theme": "white"
  },
  "toc": {
   "base_numbering": 1,
   "nav_menu": {
    "height": "148px",
    "width": "256px"
   },
   "number_sections": false,
   "sideBar": true,
   "skip_h1_title": false,
   "title_cell": "Table of Contents",
   "title_sidebar": "Contents",
   "toc_cell": false,
   "toc_position": {
    "height": "563.2px",
    "left": "125px",
    "top": "116.469px",
    "width": "315.6px"
   },
   "toc_section_display": true,
   "toc_window_display": true
  },
  "varInspector": {
   "cols": {
    "lenName": 16,
    "lenType": 16,
    "lenVar": 40
   },
   "kernels_config": {
    "python": {
     "delete_cmd_postfix": "",
     "delete_cmd_prefix": "del ",
     "library": "var_list.py",
     "varRefreshCmd": "print(var_dic_list())"
    },
    "r": {
     "delete_cmd_postfix": ") ",
     "delete_cmd_prefix": "rm(",
     "library": "var_list.r",
     "varRefreshCmd": "cat(var_dic_list()) "
    }
   },
   "types_to_exclude": [
    "module",
    "function",
    "builtin_function_or_method",
    "instance",
    "_Feature"
   ],
   "window_display": false
  }
 },
 "nbformat": 4,
 "nbformat_minor": 1
}
