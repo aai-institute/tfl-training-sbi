{
 "cells": [
  {
   "cell_type": "code",
   "execution_count": null,
   "metadata": {
    "hide_input": true,
    "init_cell": true,
    "slideshow": {
     "slide_type": "skip"
    },
    "tags": [
     "remove-input",
     "remove-output",
     "remove-input-nbconv",
     "remove-output-nbconv"
    ]
   },
   "outputs": [],
   "source": [
    "%%capture\n",
    "\n",
    "%load_ext autoreload\n",
    "%autoreload 2\n",
    "%matplotlib inline\n",
    "%load_ext tfl_training_sbi"
   ]
  },
  {
   "cell_type": "code",
   "execution_count": null,
   "metadata": {
    "hide_input": true,
    "init_cell": true,
    "slideshow": {
     "slide_type": "skip"
    },
    "tags": [
     "remove-input",
     "remove-input-nbconv"
    ]
   },
   "outputs": [],
   "source": [
    "%presentation_style"
   ]
  },
  {
   "cell_type": "code",
   "execution_count": null,
   "metadata": {
    "hide_input": true,
    "init_cell": true,
    "slideshow": {
     "slide_type": "skip"
    },
    "tags": [
     "remove-input",
     "remove-output",
     "remove-input-nbconv",
     "remove-output-nbconv"
    ]
   },
   "outputs": [],
   "source": [
    "%%capture\n",
    "\n",
    "%set_random_seed 12"
   ]
  },
  {
   "cell_type": "code",
   "execution_count": null,
   "metadata": {
    "hide_input": true,
    "init_cell": true,
    "slideshow": {
     "slide_type": "skip"
    },
    "tags": [
     "remove-input-nbconv",
     "remove-cell"
    ]
   },
   "outputs": [],
   "source": [
    "%load_latex_macros"
   ]
  },
  {
   "cell_type": "markdown",
   "metadata": {
    "slideshow": {
     "slide_type": "slide"
    }
   },
   "source": [
    "<img src=\"_static/images/aai-institute-cover.svg\" alt=\"Snow\" style=\"width:100%;\">\n",
    "<div class=\"md-slide title\">\n",
    "    <h1>Introduction to Simulation-Based Inference</h1>\n",
    "</div>\n",
    "<div class=\"md-slide title\">\n",
    "    \n",
    "</div>\n",
    "<div class=\"md-slide title\">\n",
    "    <h2>Bayesian Parameter Inference for Simulation-Based Models</h2>\n",
    "</div>"
   ]
  },
  {
   "cell_type": "code",
   "execution_count": null,
   "metadata": {},
   "outputs": [],
   "source": [
    "import matplotlib.pyplot as plt\n",
    "import torch\n",
    "\n",
    "from torch import Tensor\n",
    "from typing import Callable\n",
    "\n",
    "from tfl_training_sbi.config import (\n",
    "    default_remote_storage,\n",
    "    get_config,\n",
    ")\n",
    "from tfl_training_sbi.data_utils import (\n",
    "    SIRSimulation,\n",
    "    load_sir_data,\n",
    ")\n",
    "\n",
    "storage = default_remote_storage()\n",
    "c = get_config(reload=True)"
   ]
  },
  {
   "cell_type": "markdown",
   "metadata": {
    "slideshow": {
     "slide_type": "slide"
    }
   },
   "source": [
    "## Simulators are abundant in science and engineering\n",
    "\n",
    "<img src=\"_static/images/simulator_scales.png\" alt=\"Snow\" style=\"width:100%;\">\n",
    "\n",
    "\n"
   ]
  },
  {
   "cell_type": "markdown",
   "metadata": {
    "slideshow": {
     "slide_type": "subslide"
    }
   },
   "source": [
    "## What are simulation-based models?\n",
    "- Explicit models, e.g., ODEs, PDEs: \"simulator as numerical solver\"\n",
    " \n",
    "- Implicit models: \"simulator as black-box computer simulation\"\n",
    "\n",
    "- Anything in-between: input parameter $\\theta$ output simulated data $x$\n",
    "\n",
    "\\begin{equation}\n",
    "    x = \\mathcal{M}_{\\text{simulator}}(\\theta)\n",
    "\\end{equation}\n"
   ]
  },
  {
   "cell_type": "markdown",
   "metadata": {
    "slideshow": {
     "slide_type": "subslide"
    }
   },
   "source": [
    "## Example: Simulating pandemics with the SIR model\n",
    "\n",
    "- Models epidemiological dynamics $\\to$ used during covid-19\n",
    "- Three states: **S**usceptible **I**nfected **R**ecovered\n",
    "\n",
    "<img src=\"_static/images/sir_grey.png\" alt=\"Snow\" style=\"width:30%;\">\n",
    "\n",
    "Dehning et al., Science, 2020"
   ]
  },
  {
   "cell_type": "markdown",
   "metadata": {
    "slideshow": {
     "slide_type": "subslide"
    }
   },
   "source": [
    "## Example: Simulating the covid pandemic with the SIR model\n",
    "\n",
    "<img src=\"_static/images/covid_modelling_example.png\" alt=\"Snow\" style=\"width:80%;\">\n",
    "\n",
    "tagesschau.de; Dehning et al., Science, 2020"
   ]
  },
  {
   "cell_type": "markdown",
   "metadata": {
    "slideshow": {
     "slide_type": "subslide"
    }
   },
   "source": [
    "## Scientific discovery with simulation-based models\n",
    "\n",
    "<img src=\"_static/images/scientific_discovery_loop.png\" alt=\"Snow\" style=\"width:100%;\">\n"
   ]
  },
  {
   "cell_type": "markdown",
   "metadata": {
    "slideshow": {
     "slide_type": "subslide"
    }
   },
   "source": [
    "## Example: Simulating pandemics with the SIR model\n",
    "\n",
    "- Initial condition: $S=N-1,\\; I=1,\\; R=0$\n",
    "- Infection rate $\\beta$\n",
    "- Recovery rate $\\gamma$\n",
    "- Population size $N$\n",
    "\n",
    "\\begin{align}\n",
    "N &= 100000\\\\\n",
    "\\beta &\\sim \\text{LogNormal}(\\log(0.4), 0.5)\\\\ \n",
    "\\gamma &\\sim \\text{LogNormal}(\\log(1/8), 0.2) \\\\[5mm]\n",
    "\\frac{dS}{dt} &= -\\beta \\frac{SI}{N} \\\\ \n",
    "\\frac{dI}{dt} &= \\beta \\frac{S I}{N} - \\gamma I\\\\ \n",
    "\\frac{dR}{dt} &= \\gamma I\n",
    "\\end{align}"
   ]
  },
  {
   "cell_type": "markdown",
   "metadata": {
    "slideshow": {
     "slide_type": "subslide"
    }
   },
   "source": [
    "## Central challenge: find parameters $\\theta$ that reproduce data $x$\n",
    "\n",
    "- Search single-best fitting parameters (hand-tuning, grid-search, optimization)? \n",
    "    - Does not scale to high-dimensional problems\n",
    "    - What about uncertainty in data (aleatoric) and parameter estimates (epistemic)? \n",
    "    - What if there are multiple solutions? \n",
    "- ...? "
   ]
  },
  {
   "cell_type": "markdown",
   "metadata": {
    "slideshow": {
     "slide_type": "subslide"
    }
   },
   "source": [
    "<img src=\"_static/images/drake_pro_bayesian_inference.jpeg\" alt=\"Snow\" style=\"width:50%;\">"
   ]
  },
  {
   "cell_type": "markdown",
   "metadata": {
    "slideshow": {
     "slide_type": "subslide"
    }
   },
   "source": [
    "## Central challenge: find parameters $\\theta$ that reproduce data $x$\n",
    "\n",
    "### ~~search single best-fitting parameters~~\n",
    "    \n",
    "### Bayesian inference\n",
    "\n",
    "<img src=\"_static/images/bayesian_inference.png\" alt=\"Snow\" style=\"width:90%;\">"
   ]
  },
  {
   "cell_type": "markdown",
   "metadata": {
    "slideshow": {
     "slide_type": "slide"
    }
   },
   "source": [
    "## Bayesian inference for simulation-based models\n",
    "\n",
    "### Difficult because likelihood usually not accessible\n",
    "\n",
    "- ODEs / black-box simulators do not have analytical expression for the likelihood $p(x | \\theta)$\n",
    "- **MCMC** or **variational inference** cannot be applied! \n",
    "\n",
    "\\begin{equation}\n",
    "p(\\theta |x) = \\frac{p(x | \\theta) \\; p(\\theta)}{p(x)} \\propto p(x | \\theta) \\; p(\\theta)\n",
    "\\end{equation}\n",
    "\n",
    "### Idea: use simulated data to circumvent lack of likelihood-access\n",
    "- We cannot evaluate the likelihood, but we can simulate data! \n",
    "- \"Likelihood-free\" inference"
   ]
  },
  {
   "cell_type": "markdown",
   "metadata": {
    "slideshow": {
     "slide_type": "subslide"
    }
   },
   "source": [
    "## Outline \n",
    "### Part 1: **Approximate Bayesian Computatin (ABC)**\n",
    "### Part 2: **Simulation-Based Inference (SBI)**\n"
   ]
  },
  {
   "cell_type": "markdown",
   "metadata": {
    "slideshow": {
     "slide_type": "subslide"
    }
   },
   "source": [
    "## Approximate Bayesian Computation (ABC)\n",
    "\n",
    "### Rejection sampling\n",
    "\n",
    "<img src=\"_static/images/ABC_concept_figure.png\" alt=\"Snow\" style=\"width:100%;\">\n",
    "\n",
    "Diggle et al. (1984), Beaumont et al. (2002), Figure from Boelts (2023)"
   ]
  },
  {
   "cell_type": "markdown",
   "metadata": {
    "slideshow": {
     "slide_type": "subslide"
    }
   },
   "source": [
    "## Approximate Bayesian Computation (ABC)\n",
    "\n",
    "<img src=\"_static/images/ABC_algorithm.png\" alt=\"Snow\" style=\"width:100%;\">"
   ]
  },
  {
   "cell_type": "markdown",
   "metadata": {
    "slideshow": {
     "slide_type": "slide"
    }
   },
   "source": [
    "# Questions?"
   ]
  },
  {
   "cell_type": "markdown",
   "metadata": {
    "slideshow": {
     "slide_type": "slide"
    }
   },
   "source": [
    "## Exercise 1: Implement rejection ABC for the SIR model\n",
    "\n",
    "<img src=\"_static/images/sir_grey.png\" alt=\"Snow\" style=\"width:40%;\">\n",
    "\n",
    "- Infection rate $\\beta$\n",
    "- Recovery rate $\\gamma$\n",
    "- Population size $N$\n",
    "- Initial condition: $N=100000, \\; S=N-1,\\; I=1,\\; R=0$\n",
    "\n",
    "\\begin{align}\n",
    "\\frac{dS}{dt} &= -\\beta \\frac{SI}{N} \\\\ \n",
    "\\frac{dI}{dt} &= \\beta \\frac{S I}{N} - \\gamma I\\\\ \n",
    "\\frac{dR}{dt} &= \\gamma I\n",
    "\\end{align}\n"
   ]
  },
  {
   "cell_type": "markdown",
   "metadata": {
    "slideshow": {
     "slide_type": "slide"
    }
   },
   "source": [
    "## Exercise 1: Implement rejection ABC for the SIR model\n",
    "\n",
    "- **Task**: \n",
    "    - We collected some PCR test results $x_o$\n",
    "    - Use the rejection ABC algorithm to infer the underlying rate $\\beta$ and $\\gamma$\n",
    "\n",
    "- **Setup**\n",
    "    - Prior and simulator are given:\n",
    "    - $x = $ \"10 evenly spaced samples in time from the infectious group $I$.\"\n",
    "    \n",
    "\\begin{align}\n",
    "\\theta_i \\sim p(\\theta) &= p(\\beta)p(\\gamma) \\\\[3mm]\n",
    "x_i | \\theta_i &\\sim \\text{SIR}(\\beta_i, \\gamma_i)\n",
    "\\end{align}"
   ]
  },
  {
   "cell_type": "code",
   "execution_count": null,
   "metadata": {
    "slideshow": {
     "slide_type": "skip"
    }
   },
   "outputs": [],
   "source": [
    "# load pre-simulated SIR data.\n",
    "sir_theta, sir_x = load_sir_data(c.data)\n",
    "sample_and_simulate = SIRSimulation(sir_theta[:-1], sir_x[:-1], simulator_lag=0.0001)\n",
    "\n",
    "# Simulate observed data (we take the last pre-simulated data point that is excluded above.)\n",
    "true_theta = sir_theta[-1:]\n",
    "x_o = sir_x[-1:]"
   ]
  },
  {
   "cell_type": "markdown",
   "metadata": {
    "slideshow": {
     "slide_type": "subslide"
    }
   },
   "source": [
    "## Task\n",
    "\n",
    "1. Implement a distance function\n",
    "2. Implement the rejection ABC algorithm\n",
    "3. Select an epsilon to obtain about 100 posterior samples"
   ]
  },
  {
   "cell_type": "markdown",
   "metadata": {
    "slideshow": {
     "slide_type": "subslide"
    }
   },
   "source": [
    "### Part 1: Implement a distance function"
   ]
  },
  {
   "cell_type": "code",
   "execution_count": null,
   "metadata": {
    "slideshow": {
     "slide_type": "fragment"
    },
    "solution2": "shown",
    "solution2_first": true
   },
   "outputs": [],
   "source": [
    "def distance(x: Tensor, x_o: Tensor) -> Tensor: \n",
    "    \"\"\"Returns the mean squared error between x and x_o.\n",
    "    \n",
    "    Note: the mean is taken over x, i.e., over the second dimension.\n",
    "    \n",
    "    Args: \n",
    "        x: Tensor of simulated data, (batch, dim_x)\n",
    "        x_o: Tensor of observed data, (1, dim_x)\n",
    "        \n",
    "    Returns: \n",
    "        distance: Tensor of MSEs, (batch, 1)\n",
    "    \"\"\"\n",
    "    # Your code goes here..."
   ]
  },
  {
   "cell_type": "code",
   "execution_count": null,
   "metadata": {
    "slideshow": {
     "slide_type": "subslide"
    },
    "solution2": "shown"
   },
   "outputs": [],
   "source": [
    "# Part 1 solution.\n",
    "def distance(x: Tensor, x_o: Tensor) -> Tensor: \n",
    "    \"\"\"Returns the mean squared error between x and x_o.\n",
    "    \n",
    "    Note: the mean is taken over x, i.e., over the second dimension.\n",
    "    \n",
    "    Args: \n",
    "        x: Tensor of simulated data, (batch, dim_x)\n",
    "        x_o: Tensor of observed data, (1, dim_x)\n",
    "        \n",
    "    Returns: \n",
    "        distance: Tensor of MSEs, (batch, 1)\n",
    "    \"\"\"\n",
    "    assert x_o.shape[0] == 1, \"x_o should have shape (1, dim_x)\"\n",
    "    assert x.shape[-1] == x_o.shape[-1], \"x and x_o should have the same last dimension\"\n",
    "\n",
    "    return torch.mean((x - x_o)**2, -1)"
   ]
  },
  {
   "cell_type": "markdown",
   "metadata": {
    "slideshow": {
     "slide_type": "subslide"
    }
   },
   "source": [
    "### Part 2: Implement the rejection ABC algorithm\n",
    "\n",
    "Implement rejection ABC: \n",
    "- A loop that repeatedly samples theta from the prior \n",
    "- Simulates corresponding data x (using the sample_and_simulate function)\n",
    "- And then accepts only those theta for which $x$ is close to $x_o$"
   ]
  },
  {
   "cell_type": "code",
   "execution_count": null,
   "metadata": {
    "slideshow": {
     "slide_type": "fragment"
    },
    "solution2": "shown",
    "solution2_first": true
   },
   "outputs": [],
   "source": [
    "def rejection_abc(num_simulations: int, \n",
    "                  sample_and_simulate: Callable, \n",
    "                  epsilon: float, \n",
    "                  x_o: Tensor):\n",
    "    \"\"\"Returns a tensor of accepted posteriors samples using the rejection ABC algorithm.\n",
    "    \n",
    "    Args: \n",
    "        num_simulations: simulation budget\n",
    "        sample_and_simulate: a function that samples a parameter from the prior and simulates the SIR model.\n",
    "        epsilon: the rejection threshold for the distance between x and x_o.abs\n",
    "        x_o: the observed data.\n",
    "    Returns:\n",
    "        posterior_samples: the accepted theta, i.e., theta for which d(x, x_o) < epsilon.\n",
    "        theta: all sampled parameters (optional)\n",
    "        x: all simulated data (optional)\n",
    "    \"\"\"\n",
    "    \n",
    "    posterior_samples = []\n",
    "    theta = []\n",
    "    x = []\n",
    "    \n",
    "    # Your code goes here..."
   ]
  },
  {
   "cell_type": "code",
   "execution_count": null,
   "metadata": {
    "slideshow": {
     "slide_type": "subslide"
    },
    "solution2": "shown"
   },
   "outputs": [],
   "source": [
    "# Part 2 solution.\n",
    "def rejection_abc(num_simulations: int, \n",
    "                  sample_and_simulate: Callable, \n",
    "                  epsilon: float, \n",
    "                  x_o: Tensor):\n",
    "    \"\"\"Returns a tensor of accepted posteriors samples using the rejection ABC algorithm.\n",
    "    \n",
    "    Args: \n",
    "        num_simulations: simulation budget\n",
    "        sample_and_simulate: a function that samples a parameter from the prior and simulates the SIR model.\n",
    "        epsilon: the rejection threshold for the distance between x and x_o.abs\n",
    "        x_o: the observed data.\n",
    "    Returns:\n",
    "        posterior_samples: the accepted theta, i.e., theta for which d(x, x_o) < epsilon.\n",
    "        theta: all sampled parameters (optional)\n",
    "        x: all simulated data (optional)\n",
    "    \"\"\"\n",
    "    \n",
    "    posterior_samples = []\n",
    "    theta = []\n",
    "    x = []\n",
    "    \n",
    "    for _ in range(num_simulations):\n",
    "        \n",
    "        theta_i, x_i = sample_and_simulate()\n",
    "        theta.append(theta_i)\n",
    "        x.append(x_i)\n",
    "        \n",
    "        if distance(x_i, x_o) < epsilon:\n",
    "            posterior_samples.append(theta_i)\n",
    "        \n",
    "    print(f\"Rejection ABC: {len(posterior_samples)} accepted samples.\")\n",
    "        \n",
    "    return torch.cat(posterior_samples), torch.cat(theta), torch.cat(x)"
   ]
  },
  {
   "cell_type": "markdown",
   "metadata": {
    "slideshow": {
     "slide_type": "subslide"
    }
   },
   "source": [
    "### Part 3: Obtain about 100 posterior samples\n",
    "\n",
    "Choose an epsilon and run the rejection ABC algorithm such that obtain about 100 posterior samples."
   ]
  },
  {
   "cell_type": "code",
   "execution_count": null,
   "metadata": {
    "slideshow": {
     "slide_type": "fragment"
    },
    "solution2": "shown",
    "solution2_first": true
   },
   "outputs": [],
   "source": [
    "# Your code goes here...\n",
    "\n",
    "# eps = ?\n",
    "# num_simulations = 50000\n",
    "# posterior_samples, theta, x = rejection_abc(...)"
   ]
  },
  {
   "cell_type": "code",
   "execution_count": null,
   "metadata": {
    "slideshow": {
     "slide_type": "subslide"
    },
    "solution2": "shown"
   },
   "outputs": [],
   "source": [
    "# Part 3 solution.\n",
    "eps = .5\n",
    "num_simulations = 50000\n",
    "posterior_samples, theta, x = rejection_abc(num_simulations, sample_and_simulate, eps, x_o)\n"
   ]
  },
  {
   "cell_type": "markdown",
   "metadata": {
    "slideshow": {
     "slide_type": "subslide"
    }
   },
   "source": [
    "## Plotting\n",
    "\n",
    "Plot prior and posterior samples, and \"true\" underlying theta."
   ]
  },
  {
   "cell_type": "code",
   "execution_count": null,
   "metadata": {
    "slideshow": {
     "slide_type": "fragment"
    }
   },
   "outputs": [],
   "source": [
    "# Select number of samples for scatter plot.\n",
    "num_prior_samples = 20000\n",
    "plt.scatter(theta[:num_prior_samples, 0], theta[:num_prior_samples, 1], s=5, alpha=0.5, label=\"prior\")\n",
    "plt.scatter(posterior_samples[:, 0], posterior_samples[:, 1], s=5, label=\"ABC-posterior\")\n",
    "plt.scatter(*true_theta[0], marker=\"x\", color=\"k\", label=\"theta_o\")\n",
    "plt.xlabel(\"infection rate\")\n",
    "plt.ylabel(\"recovery rate\")\n",
    "plt.legend();"
   ]
  },
  {
   "cell_type": "markdown",
   "metadata": {
    "slideshow": {
     "slide_type": "slide"
    }
   },
   "source": [
    "# Summary\n",
    "\n",
    "## Simulation-based inference (SBI)\n",
    "- Use Bayesian inference to identify parameters of simulation-based models\n",
    "- Likelihood is not accessible $\\to$ use data simulated from the model instead"
   ]
  },
  {
   "cell_type": "markdown",
   "metadata": {
    "slideshow": {
     "slide_type": "fragment"
    }
   },
   "source": [
    "## Part 1: \"Classical SBI\" aka Approximate Bayesian Computation (ABC) \n",
    "\n",
    "<img src=\"_static/images/ABC_concept_figure.png\" alt=\"Snow\" style=\"width:100%;\">\n",
    "\n",
    "### Advantage\n",
    "- Conceptually simple: fast to implement\n",
    "\n",
    "### Disadvantages\n",
    "- Curse of dimensionality: what if $\\theta$ or $x$ is high-dimensional? "
   ]
  },
  {
   "cell_type": "markdown",
   "metadata": {
    "slideshow": {
     "slide_type": "subslide"
    }
   },
   "source": [
    "## Part 2: Machine learining-powered simulation-based inference\n",
    "\n",
    "Replace rejection sampling with **neural density estimation**.\n",
    "\n",
    "<img src=\"_static/images/sbi_concept_figure.png\" alt=\"Snow\" style=\"width:100%;\">\n",
    "\n",
    "Papamakarios et al. 2016; Cranmer et al. 2020, Figure from Boelts (2023)"
   ]
  },
  {
   "cell_type": "markdown",
   "metadata": {
    "slideshow": {
     "slide_type": "slide"
    },
    "tags": [
     "remove-cell",
     "remove-cell-nbconv"
    ]
   },
   "source": [
    "<img src=\"_static/images/aai-institute-cover.svg\" alt=\"Snow\" style=\"width:100%;\">\n",
    "<div class=\"md-slide title\">\n",
    "    <h2>Thank you for the attention!</h2>\n",
    "</div>"
   ]
  },
  {
   "cell_type": "markdown",
   "metadata": {},
   "source": []
  }
 ],
 "metadata": {
  "celltoolbar": "Slideshow",
  "kernelspec": {
   "display_name": "Python 3 (ipykernel)",
   "language": "python",
   "name": "python3"
  },
  "language_info": {
   "codemirror_mode": {
    "name": "ipython",
    "version": 3
   },
   "file_extension": ".py",
   "mimetype": "text/x-python",
   "name": "python",
   "nbconvert_exporter": "python",
   "pygments_lexer": "ipython3",
   "version": "3.9.18"
  },
  "rise": {
   "footer": "<img src='_static/images/aai-logo.png' alt='logo' height='50em'>",
   "header": "<img src='_static/images/transferlab-logo.svg' alt='logo' height='20em' />",
   "theme": "white"
  },
  "toc": {
   "base_numbering": 1,
   "nav_menu": {
    "height": "148px",
    "width": "256px"
   },
   "number_sections": false,
   "sideBar": true,
   "skip_h1_title": false,
   "title_cell": "Table of Contents",
   "title_sidebar": "Contents",
   "toc_cell": false,
   "toc_position": {
    "height": "563.2px",
    "left": "125px",
    "top": "116.469px",
    "width": "315.6px"
   },
   "toc_section_display": true,
   "toc_window_display": false
  },
  "varInspector": {
   "cols": {
    "lenName": 16,
    "lenType": 16,
    "lenVar": 40
   },
   "kernels_config": {
    "python": {
     "delete_cmd_postfix": "",
     "delete_cmd_prefix": "del ",
     "library": "var_list.py",
     "varRefreshCmd": "print(var_dic_list())"
    },
    "r": {
     "delete_cmd_postfix": ") ",
     "delete_cmd_prefix": "rm(",
     "library": "var_list.r",
     "varRefreshCmd": "cat(var_dic_list()) "
    }
   },
   "types_to_exclude": [
    "module",
    "function",
    "builtin_function_or_method",
    "instance",
    "_Feature"
   ],
   "window_display": false
  }
 },
 "nbformat": 4,
 "nbformat_minor": 1
}
