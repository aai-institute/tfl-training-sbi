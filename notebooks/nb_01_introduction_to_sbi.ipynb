{
 "cells": [
  {
   "cell_type": "code",
   "execution_count": null,
   "metadata": {
    "hide_input": true,
    "init_cell": true,
    "slideshow": {
     "slide_type": "skip"
    },
    "tags": [
     "remove-input",
     "remove-output",
     "remove-input-nbconv",
     "remove-output-nbconv"
    ]
   },
   "outputs": [],
   "source": [
    "%%capture\n",
    "\n",
    "%load_ext autoreload\n",
    "%autoreload 2\n",
    "%matplotlib inline\n",
    "%load_ext tfl_training_sbi"
   ]
  },
  {
   "cell_type": "code",
   "execution_count": null,
   "metadata": {
    "hide_input": true,
    "init_cell": true,
    "slideshow": {
     "slide_type": "skip"
    },
    "tags": [
     "remove-input",
     "remove-input-nbconv"
    ]
   },
   "outputs": [],
   "source": [
    "%presentation_style"
   ]
  },
  {
   "cell_type": "code",
   "execution_count": null,
   "metadata": {
    "hide_input": true,
    "init_cell": true,
    "slideshow": {
     "slide_type": "skip"
    },
    "tags": [
     "remove-input",
     "remove-output",
     "remove-input-nbconv",
     "remove-output-nbconv"
    ]
   },
   "outputs": [],
   "source": [
    "%%capture\n",
    "\n",
    "%set_random_seed 12"
   ]
  },
  {
   "cell_type": "code",
   "execution_count": null,
   "metadata": {
    "hide_input": true,
    "init_cell": true,
    "slideshow": {
     "slide_type": "skip"
    },
    "tags": [
     "remove-input-nbconv",
     "remove-cell"
    ]
   },
   "outputs": [],
   "source": [
    "%load_latex_macros"
   ]
  },
  {
   "cell_type": "markdown",
   "metadata": {
    "slideshow": {
     "slide_type": "slide"
    }
   },
   "source": [
    "<img src=\"_static/images/aai-institute-cover.svg\" alt=\"Snow\" style=\"width:100%;\">\n",
    "<div class=\"md-slide title\">\n",
    "    <h1>Introduction to Simulation-Based Inference</h1>\n",
    "</div>\n",
    "<div class=\"md-slide title\">\n",
    "    \n",
    "</div>\n",
    "<div class=\"md-slide title\">\n",
    "    <h2>Bayesian Parameter Inference for Simulation-Based Models</h2>\n",
    "</div>\n"
   ]
  },
  {
   "cell_type": "code",
   "execution_count": null,
   "metadata": {},
   "outputs": [],
   "source": [
    "from typing import Callable\n",
    "\n",
    "import matplotlib.pyplot as plt\n",
    "import torch\n",
    "from tfl_training_sbi.config import (\n",
    "    default_remote_storage,\n",
    "    get_config,\n",
    ")\n",
    "from tfl_training_sbi.data_utils import (\n",
    "    SIRSimulation,\n",
    "    load_sir_data,\n",
    ")\n",
    "from torch import Tensor\n",
    "from tqdm.notebook import tnrange\n",
    "\n",
    "storage = default_remote_storage()\n",
    "c = get_config(reload=True)"
   ]
  },
  {
   "cell_type": "markdown",
   "metadata": {
    "slideshow": {
     "slide_type": "slide"
    }
   },
   "source": [
    "## Simulators are abundant in science and engineering\n",
    "\n",
    "<img src=\"_static/images/simulator_scales.png\" alt=\"Snow\" style=\"width:100%;\">\n"
   ]
  },
  {
   "cell_type": "markdown",
   "metadata": {
    "slideshow": {
     "slide_type": "subslide"
    }
   },
   "source": [
    "## What are simulation-based models?\n",
    "\n",
    "- Explicit models, e.g., ODEs, PDEs: \"simulator as numerical solver\"\n",
    "\n",
    "- Implicit models: \"simulator as black-box computer simulation\"\n",
    "\n",
    "- Anything in-between: input parameter $\\theta$, output simulated data $x$\n",
    "\n",
    "\n",
    "\\begin{equation}\n",
    "x = \\mathcal{M}_{\\text{simulator}}(\\theta)\n",
    "\\end{equation}\n"
   ]
  },
  {
   "cell_type": "markdown",
   "metadata": {
    "slideshow": {
     "slide_type": "fragment"
    }
   },
   "source": [
    "## Exercise 1: Give an example of a simulator from your domain"
   ]
  },
  {
   "cell_type": "markdown",
   "metadata": {
    "slideshow": {
     "slide_type": "subslide"
    }
   },
   "source": [
    "## Example: Simulating pandemics with the SIR model\n",
    "\n",
    "- Models epidemiological dynamics $\\to$ used during covid-19\n",
    "- Three states: **S**usceptible **I**nfected **R**ecovered\n",
    "\n",
    "<img src=\"_static/images/sir_grey.png\" alt=\"Snow\" style=\"width:30%;\">\n",
    "\n",
    "Dehning et al., Science, 2020\n"
   ]
  },
  {
   "cell_type": "markdown",
   "metadata": {
    "slideshow": {
     "slide_type": "subslide"
    }
   },
   "source": [
    "## Example: Simulating the covid pandemic with the SIR model\n",
    "\n",
    "<img src=\"_static/images/covid_modelling_example.png\" alt=\"Snow\" style=\"width:80%;\">\n",
    "\n",
    "tagesschau.de; Dehning et al., Science, 2020\n"
   ]
  },
  {
   "cell_type": "markdown",
   "metadata": {
    "slideshow": {
     "slide_type": "subslide"
    }
   },
   "source": [
    "## Scientific discovery with simulation-based models\n",
    "\n",
    "<img src=\"_static/images/scientific_discovery_loop.png\" alt=\"Snow\" style=\"width:100%;\">\n"
   ]
  },
  {
   "cell_type": "markdown",
   "metadata": {
    "slideshow": {
     "slide_type": "subslide"
    }
   },
   "source": [
    "## Example: Simulating pandemics with the SIR model\n",
    "\n",
    "\n",
    "- Initial condition: $S=N-1,\\; I=1,\\; R=0$\n",
    "- Infection rate $\\beta$\n",
    "- Recovery rate $\\gamma$\n",
    "- Population size $N$\n",
    "\n",
    "\\begin{align}\n",
    "N &= 100000\\\\\n",
    "\\beta &\\sim \\text{LogNormal}(\\log(0.4), 0.5)\\\\\n",
    "\\gamma &\\sim \\text{LogNormal}(\\log(1/8), 0.2) \\\\[5mm]\n",
    "\\frac{dS}{dt} &= -\\beta \\frac{SI}{N} \\\\\n",
    "\\frac{dI}{dt} &= \\beta \\frac{S I}{N} - \\gamma I\\\\\n",
    "\\frac{dR}{dt} &= \\gamma I\n",
    "\\end{align}\n"
   ]
  },
  {
   "cell_type": "markdown",
   "metadata": {
    "slideshow": {
     "slide_type": "subslide"
    }
   },
   "source": [
    "## Central challenge: find parameters $\\theta$ that reproduce data $x$\n",
    "\n",
    "\n",
    "### Search single-best fitting parameters: \n",
    "\n",
    "- hand-tuning \n",
    "- grid-search\n",
    "- optimization, e.g., maximum likelihood estimation"
   ]
  },
  {
   "cell_type": "markdown",
   "metadata": {
    "slideshow": {
     "slide_type": "fragment"
    }
   },
   "source": [
    "### Problem:  Does not scale to high-dimensional applications\n",
    "\n",
    "- What if there are multiple solutions?\n",
    "- What about uncertainty in data (aleatoric) and parameter estimates (epistemic)?\n",
    "- Parameter correlations will be informative\n",
    "- ...?\n"
   ]
  },
  {
   "cell_type": "markdown",
   "metadata": {
    "slideshow": {
     "slide_type": "subslide"
    }
   },
   "source": [
    "<img src=\"_static/images/drake_pro_bayesian_inference.jpeg\" alt=\"Snow\" style=\"width:50%;\">\n"
   ]
  },
  {
   "cell_type": "markdown",
   "metadata": {
    "slideshow": {
     "slide_type": "subslide"
    }
   },
   "source": [
    "## Central challenge: find parameters $\\theta$ that reproduce data $x$\n",
    "\n",
    "### ~~search single best-fitting parameters~~\n",
    "\n",
    "### Bayesian inference\n",
    "\n",
    "<img src=\"_static/images/bayesian_inference.png\" alt=\"Snow\" style=\"width:90%;\">\n"
   ]
  },
  {
   "cell_type": "markdown",
   "metadata": {
    "slideshow": {
     "slide_type": "slide"
    }
   },
   "source": [
    "## Bayesian inference for simulation-based models\n",
    "\n",
    "### Difficult because likelihood usually not accessible\n",
    "\n",
    "- ODEs / black-box simulators do not have analytical expression for the likelihood $p(x | \\theta)$\n",
    "- **MCMC** or **variational inference** cannot be applied!\n",
    "\n",
    "\\begin{equation}\n",
    "p(\\theta |x) = \\frac{p(x | \\theta) \\; p(\\theta)}{p(x)} \\propto p(x | \\theta) \\; p(\\theta)\n",
    "\\end{equation}"
   ]
  },
  {
   "cell_type": "markdown",
   "metadata": {
    "slideshow": {
     "slide_type": "fragment"
    }
   },
   "source": [
    "### Idea: use simulated data to circumvent lack of likelihood-access\n",
    "\n",
    "- We cannot evaluate the likelihood, but we can simulate data!\n",
    "- \"Likelihood-free\" inference or \"Simulation-Based\" inference"
   ]
  },
  {
   "cell_type": "markdown",
   "metadata": {
    "slideshow": {
     "slide_type": "subslide"
    }
   },
   "source": [
    "## Intermediate summary\n",
    "\n",
    "### Simulation-based inference (SBI) in a nutshell\n",
    "\n",
    "- Perform Bayesian inference over the parameters $\\theta$ of a simulator, given observed data $x_o$.\n",
    "- Goal: infer the posterior $p(\\theta | x_o)$.\n",
    "- Classical Bayesian inference do not apply, because the likelihood $p(x | \\theta)$ is not available\n",
    "- Use *simulated data* to approximate the posterior"
   ]
  },
  {
   "cell_type": "markdown",
   "metadata": {
    "slideshow": {
     "slide_type": "fragment"
    }
   },
   "source": [
    "### Outline for the training\n",
    "\n",
    "#### Part 1) classical SBI: **Approximate Bayesian Computatin (ABC)**\n",
    "\n",
    "#### Part 2) modern SBI: *neural* **Simulation-Based Inference (SBI)**\n"
   ]
  },
  {
   "cell_type": "markdown",
   "metadata": {
    "slideshow": {
     "slide_type": "subslide"
    }
   },
   "source": [
    "## Approximate Bayesian Computation (ABC)\n",
    "\n",
    "### Rejection sampling\n",
    "\n",
    "<img src=\"_static/images/ABC_concept_figure.png\" alt=\"Snow\" style=\"width:100%;\">\n",
    "\n",
    "Diggle et al. (1984), Beaumont et al. (2002), Figure from Boelts (2023)\n"
   ]
  },
  {
   "cell_type": "markdown",
   "metadata": {
    "slideshow": {
     "slide_type": "subslide"
    }
   },
   "source": [
    "## Approximate Bayesian Computation (ABC)\n",
    "\n",
    "<img src=\"_static/images/ABC_algorithm.png\" alt=\"Snow\" style=\"width:100%;\">\n"
   ]
  },
  {
   "cell_type": "markdown",
   "metadata": {
    "slideshow": {
     "slide_type": "slide"
    }
   },
   "source": [
    "## Questions?\n"
   ]
  },
  {
   "cell_type": "markdown",
   "metadata": {
    "slideshow": {
     "slide_type": "slide"
    }
   },
   "source": [
    "## Exercise 1: Implement rejection ABC for the SIR model\n",
    "\n",
    "<img src=\"_static/images/sir_grey.png\" alt=\"Snow\" style=\"width:40%;\">\n",
    "\n",
    "- Infection rate $\\beta$\n",
    "- Recovery rate $\\gamma$\n",
    "- Population size $N$\n",
    "- Initial condition: $N=100000, \\; S=N-1,\\; I=1,\\; R=0$\n",
    "\n",
    "\\begin{align}\n",
    "\\frac{dS}{dt} &= -\\beta \\frac{SI}{N} \\\\\n",
    "\\frac{dI}{dt} &= \\beta \\frac{S I}{N} - \\gamma I\\\\\n",
    "\\frac{dR}{dt} &= \\gamma I\n",
    "\\end{align}\n"
   ]
  },
  {
   "cell_type": "markdown",
   "metadata": {
    "slideshow": {
     "slide_type": "slide"
    }
   },
   "source": [
    "## Exercise 1: Implement rejection ABC for the SIR model\n",
    "\n",
    "- **Setup**\n",
    "  - We collected some PCR test results $x_o$\n",
    "  - Prior and simulator are given:\n",
    "  - $x = $ \"10 evenly spaced samples in time from the infectious group $I$.\"\n",
    "\n",
    "\\begin{align}\n",
    "\\theta_i \\sim p(\\theta) &= p(\\beta)p(\\gamma) \\\\[3mm]\n",
    "x_i | \\theta_i &\\sim \\text{SIR}(\\beta_i, \\gamma_i)\n",
    "\\end{align}\n",
    "\n",
    "- **Task**:\n",
    "\n",
    "  - Use the rejection ABC algorithm to infer the underlying rate $\\beta$ and $\\gamma$"
   ]
  },
  {
   "cell_type": "code",
   "execution_count": null,
   "metadata": {
    "slideshow": {
     "slide_type": "skip"
    }
   },
   "outputs": [],
   "source": [
    "# load pre-simulated SIR data.\n",
    "sir_theta, sir_x = load_sir_data(c.data)\n",
    "\n",
    "# Select (pseudo) observed data.\n",
    "x_o_idx = -2\n",
    "# NOTE: in practice, we usually do not know theta_o\n",
    "theta_o = sir_theta[x_o_idx].reshape(1, -1)\n",
    "x_o = sir_x[x_o_idx].reshape(1, -1)\n",
    "\n",
    "# Create a pseudo simulator that returns sample from prior and corresponding simulation.\n",
    "sample_and_simulate = SIRSimulation(sir_theta[:x_o_idx], sir_x[:x_o_idx], simulator_lag=0.001)"
   ]
  },
  {
   "cell_type": "markdown",
   "metadata": {
    "slideshow": {
     "slide_type": "subslide"
    }
   },
   "source": [
    "## Task\n",
    "\n",
    "1. Implement a distance function\n",
    "2. Implement the rejection ABC algorithm\n",
    "3. Select an epsilon to obtain about 100 posterior samples\n"
   ]
  },
  {
   "cell_type": "markdown",
   "metadata": {
    "slideshow": {
     "slide_type": "subslide"
    }
   },
   "source": [
    "### Task 1: Implement a distance function\n"
   ]
  },
  {
   "cell_type": "code",
   "execution_count": null,
   "metadata": {
    "slideshow": {
     "slide_type": "fragment"
    },
    "solution2": "shown",
    "solution2_first": true
   },
   "outputs": [],
   "source": [
    "def distance(x: Tensor, x_o: Tensor) -> Tensor:\n",
    "    \"\"\"Returns the mean squared error (MSE) between x and x_o.\n",
    "\n",
    "    Note: the mean is taken over data dimensions, i.e., over the second dimension of x.\n",
    "\n",
    "    Args:\n",
    "        x: Simulated data, shape (batch, dim_x)\n",
    "        x_o: Observed data, (1, dim_x)\n",
    "\n",
    "    Returns:\n",
    "        distance: MSEs, (batch, 1)\n",
    "    \"\"\"\n",
    "    # Your code goes here..."
   ]
  },
  {
   "cell_type": "code",
   "execution_count": null,
   "metadata": {
    "slideshow": {
     "slide_type": "subslide"
    },
    "solution2": "shown"
   },
   "outputs": [],
   "source": [
    "# Part 1 solution.\n",
    "def distance(x: Tensor, x_o: Tensor) -> Tensor:\n",
    "    \"\"\"Returns the mean squared error (MSE) between x and x_o.\n",
    "\n",
    "    Note: the mean is taken over data dimensions, i.e., over the second dimension of x.\n",
    "\n",
    "    Args:\n",
    "        x: Simulated data, shape (batch, dim_x)\n",
    "        x_o: Observed data, (1, dim_x)\n",
    "\n",
    "    Returns:\n",
    "        distance: MSEs, (batch, 1)\n",
    "    \"\"\"\n",
    "    assert len(x_o.shape) == len(x.shape) == 2, \"x and x_o must be 2D.\"\n",
    "    assert x_o.shape[0] == 1, \"x_o should have shape (1, dim_x)\"\n",
    "    assert x.shape[-1] == x_o.shape[-1], \"x and x_o should have the same last dimension\"\n",
    "\n",
    "    return torch.mean((x - x_o) ** 2, -1)"
   ]
  },
  {
   "cell_type": "markdown",
   "metadata": {
    "slideshow": {
     "slide_type": "subslide"
    }
   },
   "source": [
    "### Task 2: Implement the rejection ABC algorithm\n",
    "\n",
    "Implement rejection ABC:\n",
    "\n",
    "- A loop that repeatedly samples theta from the prior\n",
    "- Simulates corresponding data x (using the sample_and_simulate function)\n",
    "- And then accepts only those theta for which $x$ is close to $x_o$\n"
   ]
  },
  {
   "cell_type": "code",
   "execution_count": null,
   "metadata": {
    "slideshow": {
     "slide_type": "fragment"
    },
    "solution2": "shown",
    "solution2_first": true
   },
   "outputs": [],
   "source": [
    "def rejection_abc(\n",
    "    num_simulations: int, sample_and_simulate: Callable, distance: Callable, epsilon: float, x_o: Tensor\n",
    ") -> Tensor:\n",
    "    \"\"\"Returns a tensor of accepted posteriors samples obtained with the rejection ABC algorithm.\n",
    "\n",
    "    Args:\n",
    "        num_simulations: simulation budget\n",
    "        sample_and_simulate: a function that samples a parameter from the prior and \n",
    "            simulates the SIR model: takes number of samples (int) as input and returns\n",
    "            theta and x: theta_i, x_i = sample_and_simulate(num_samples)\n",
    "        distance: a distance function.\n",
    "        epsilon: the rejection threshold for the distance between x and x_o.\n",
    "        x_o: the observed data.\n",
    "    Returns:\n",
    "        posterior_samples: the accepted theta, i.e., theta for which d(x, x_o) < epsilon.\n",
    "        theta: all sampled parameters\n",
    "        x: all simulated data\n",
    "    \"\"\"\n",
    "\n",
    "    posterior_samples = []\n",
    "    theta = []\n",
    "    x = []\n",
    "\n",
    "    # Your code goes here..."
   ]
  },
  {
   "cell_type": "code",
   "execution_count": null,
   "metadata": {
    "slideshow": {
     "slide_type": "subslide"
    },
    "solution2": "shown"
   },
   "outputs": [],
   "source": [
    "def rejection_abc(\n",
    "    num_simulations: int, sample_and_simulate: Callable, distance: Callable, epsilon: float, x_o: Tensor\n",
    ") -> Tensor:\n",
    "    \"\"\"Returns a tensor of accepted posteriors samples obtained with the rejection ABC algorithm.\n",
    "\n",
    "    Args:\n",
    "        num_simulations: simulation budget\n",
    "        sample_and_simulate: a function that samples a parameter from the prior and \n",
    "            simulates the SIR model: takes number of samples (int) as input and returns\n",
    "            theta and x: theta_i, x_i = sample_and_simulate(num_samples)\n",
    "        distance: a distance function.\n",
    "        epsilon: the rejection threshold for the distance between x and x_o.\n",
    "        x_o: the observed data.\n",
    "    Returns:\n",
    "        posterior_samples: the accepted theta, i.e., theta for which d(x, x_o) < epsilon.\n",
    "        theta: all sampled parameters\n",
    "        x: all simulated data\n",
    "    \"\"\"\n",
    "\n",
    "    posterior_samples = []\n",
    "    theta = []\n",
    "    x = []\n",
    "\n",
    "    for _ in tnrange(num_simulations):\n",
    "        theta_i, x_i = sample_and_simulate(1)\n",
    "        theta.append(theta_i)\n",
    "        x.append(x_i)\n",
    "\n",
    "        if distance(x_i, x_o) < epsilon:\n",
    "            posterior_samples.append(theta_i)\n",
    "\n",
    "    assert len(posterior_samples) > 0, \"No samples accepted, consider increasing N or eps.\"\n",
    "    \n",
    "    print(f\"Rejection ABC: {len(posterior_samples)} accepted samples.\")\n",
    "\n",
    "    return torch.cat(posterior_samples), torch.cat(theta), torch.cat(x)"
   ]
  },
  {
   "cell_type": "markdown",
   "metadata": {
    "slideshow": {
     "slide_type": "subslide"
    }
   },
   "source": [
    "### Task 3: Obtain about 100 posterior samples\n",
    "\n",
    "Choose an epsilon and run the rejection ABC algorithm such that obtain about 100 posterior samples.\n"
   ]
  },
  {
   "cell_type": "code",
   "execution_count": null,
   "metadata": {
    "slideshow": {
     "slide_type": "fragment"
    },
    "solution2": "shown",
    "solution2_first": true
   },
   "outputs": [],
   "source": [
    "# Your code goes here...\n",
    "\n",
    "# eps = ?\n",
    "# num_simulations = 50000\n",
    "# posterior_samples, theta, x = rejection_abc(...)"
   ]
  },
  {
   "cell_type": "code",
   "execution_count": null,
   "metadata": {
    "slideshow": {
     "slide_type": "subslide"
    },
    "solution2": "shown"
   },
   "outputs": [],
   "source": [
    "# Part 3 solution.\n",
    "eps = 120\n",
    "num_simulations = 50000\n",
    "posterior_samples, theta, x = rejection_abc(num_simulations, sample_and_simulate, distance, eps, x_o)"
   ]
  },
  {
   "cell_type": "markdown",
   "metadata": {
    "slideshow": {
     "slide_type": "subslide"
    }
   },
   "source": [
    "## Plotting\n",
    "\n",
    "Plot prior and posterior samples, and \"true\" underlying theta.\n"
   ]
  },
  {
   "cell_type": "code",
   "execution_count": null,
   "metadata": {
    "scrolled": false,
    "slideshow": {
     "slide_type": "fragment"
    }
   },
   "outputs": [],
   "source": [
    "# Select number of samples for scatter plot.\n",
    "num_prior_samples = 5000\n",
    "plt.scatter(*theta[:num_prior_samples].flip(-1).T, s=5, alpha=0.5, label=\"prior\",)\n",
    "plt.scatter(*posterior_samples.flip(1).T, s=5, label=\"ABC-posterior\")\n",
    "plt.scatter(*theta_o.flip(1).T, marker=\"x\", color=\"k\", label=\"theta_o\")\n",
    "plt.ylabel(r\"infection rate $\\beta$\")\n",
    "plt.xlabel(r\"recovery rate $\\gamma$\")\n",
    "plt.legend();"
   ]
  },
  {
   "cell_type": "markdown",
   "metadata": {
    "slideshow": {
     "slide_type": "slide"
    }
   },
   "source": [
    "## Summary\n",
    "\n",
    "### Simulation-based inference (SBI)\n",
    "\n",
    "- Use Bayesian inference to identify parameters of simulation-based models\n",
    "- Likelihood is not accessible $\\to$ use data simulated from the model instead\n"
   ]
  },
  {
   "cell_type": "markdown",
   "metadata": {
    "slideshow": {
     "slide_type": "fragment"
    }
   },
   "source": [
    "## Part 1: \"Classical SBI\" aka Approximate Bayesian Computation (ABC)\n",
    "\n",
    "<img src=\"_static/images/ABC_concept_figure.png\" alt=\"Snow\" style=\"width:100%;\">\n",
    "\n",
    "### Advantages\n",
    "\n",
    "- Conceptually simple: fast to implement\n",
    "\n",
    "### Disadvantages\n",
    "\n",
    "- Curse of dimensionality: what if $\\theta$ or $x$ is high-dimensional?\n",
    "- Ad-hoc choices neccessary: distance metric, rejection threshold $\\epsilon$, summary statistics\n"
   ]
  },
  {
   "cell_type": "markdown",
   "metadata": {
    "slideshow": {
     "slide_type": "subslide"
    }
   },
   "source": [
    "## Learning goals\n",
    "\n",
    "- What is a simulation-based model / a simulator? \n",
    "- Why do we need to infer the parameters? \n",
    "- What is Bayesian inference, and why is it better than getting point estimates? \n",
    "- Why can't we just use MCMC or variational inference to get posterior samples? \n",
    "- What is simulation-based inference? \n",
    "- How does rejection ABC work? \n",
    "- What are the benefits, what the downsides of rejection ABC? \n",
    "\n",
    "## Anything unclear? Please ask"
   ]
  },
  {
   "cell_type": "markdown",
   "metadata": {
    "slideshow": {
     "slide_type": "subslide"
    }
   },
   "source": [
    "## Part 2: Machine learning-powered simulation-based inference\n",
    "\n",
    "Use _conditional density estimation_ to learn a parametric approximation to the\n",
    "posterior distribution: **neural density estimation**.\n",
    "\n",
    "<img src=\"_static/images/sbi_concept_figure.png\" alt=\"Snow\" style=\"width:100%;\">\n",
    "\n",
    "Papamakarios et al. 2016; Cranmer et al. 2020, Figure from Boelts (2023)\n"
   ]
  },
  {
   "cell_type": "markdown",
   "metadata": {
    "slideshow": {
     "slide_type": "slide"
    },
    "tags": [
     "remove-cell",
     "remove-cell-nbconv"
    ]
   },
   "source": [
    "<img src=\"_static/images/aai-institute-cover.svg\" alt=\"Snow\" style=\"width:100%;\">\n",
    "<div class=\"md-slide title\">\n",
    "    <h2>Thank you for the attention!</h2>\n",
    "</div>\n"
   ]
  },
  {
   "cell_type": "code",
   "execution_count": null,
   "metadata": {},
   "outputs": [],
   "source": []
  }
 ],
 "metadata": {
  "celltoolbar": "Slideshow",
  "kernelspec": {
   "display_name": "Python 3 (ipykernel)",
   "language": "python",
   "name": "python3"
  },
  "language_info": {
   "codemirror_mode": {
    "name": "ipython",
    "version": 3
   },
   "file_extension": ".py",
   "mimetype": "text/x-python",
   "name": "python",
   "nbconvert_exporter": "python",
   "pygments_lexer": "ipython3",
   "version": "3.11.7"
  },
  "rise": {
   "footer": "<img src='_static/images/aai-logo.png' alt='logo' height='50em'>",
   "header": "<img src='_static/images/transferlab-logo.svg' alt='logo' height='20em' />",
   "theme": "white"
  },
  "toc": {
   "base_numbering": 1,
   "nav_menu": {
    "height": "148px",
    "width": "256px"
   },
   "number_sections": false,
   "sideBar": true,
   "skip_h1_title": false,
   "title_cell": "Table of Contents",
   "title_sidebar": "Contents",
   "toc_cell": false,
   "toc_position": {
    "height": "563.2px",
    "left": "125px",
    "top": "116.469px",
    "width": "315.6px"
   },
   "toc_section_display": true,
   "toc_window_display": false
  },
  "varInspector": {
   "cols": {
    "lenName": 16,
    "lenType": 16,
    "lenVar": 40
   },
   "kernels_config": {
    "python": {
     "delete_cmd_postfix": "",
     "delete_cmd_prefix": "del ",
     "library": "var_list.py",
     "varRefreshCmd": "print(var_dic_list())"
    },
    "r": {
     "delete_cmd_postfix": ") ",
     "delete_cmd_prefix": "rm(",
     "library": "var_list.r",
     "varRefreshCmd": "cat(var_dic_list()) "
    }
   },
   "types_to_exclude": [
    "module",
    "function",
    "builtin_function_or_method",
    "instance",
    "_Feature"
   ],
   "window_display": false
  }
 },
 "nbformat": 4,
 "nbformat_minor": 1
}
