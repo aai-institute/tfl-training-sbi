{
 "cells": [
  {
   "cell_type": "code",
   "execution_count": 5,
   "metadata": {
    "hide_input": true,
    "init_cell": true,
    "slideshow": {
     "slide_type": "skip"
    },
    "tags": [
     "remove-input",
     "remove-output",
     "remove-input-nbconv",
     "remove-output-nbconv"
    ]
   },
   "outputs": [],
   "source": [
    "%%capture\n",
    "\n",
    "%load_ext autoreload\n",
    "%autoreload 2\n",
    "%matplotlib inline\n",
    "%load_ext tfl_training_sbi"
   ]
  },
  {
   "cell_type": "code",
   "execution_count": 6,
   "metadata": {
    "hide_input": true,
    "init_cell": true,
    "slideshow": {
     "slide_type": "skip"
    },
    "tags": [
     "remove-input",
     "remove-input-nbconv"
    ]
   },
   "outputs": [
    {
     "data": {
      "text/html": [
       "<style>/*\n",
       "This file is mainly copy-pasta from rise's examples\n",
       "https://github.com/damianavila/RISE/blob/master/examples/rise.css\n",
       "that was further customized for appliedAI purposes\n",
       "*/\n",
       "@import url('https://fonts.googleapis.com/css2?family=Work+Sans:wght@400&display=swap');\n",
       "\n",
       "\n",
       "body {\n",
       "    font-family: 'Work Sans', sans-serif !important;\n",
       "    text-transform: initial !important;\n",
       "    letter-spacing: initial !important;\n",
       "    font-weight: 400 !important;\n",
       "    line-height: 1.5 !important;\n",
       "    text-size-adjust: 100% !important;\n",
       "    ‑webkit‑text‑size‑adjust: 100% !important;\n",
       "}\n",
       "\n",
       "\n",
       ".reveal, div.text_cell_render, .md-slide, .sidebar-wrapper {\n",
       "    font-size: 1.5rem !important;\n",
       "}\n",
       "\n",
       ".navbar-default .navbar-nav > li > a {\n",
       "    color: #00747b !important;\n",
       "}\n",
       "\n",
       ".filename {\n",
       "    font-size: 2.4rem !important;\n",
       "    color: #212529 !important;\n",
       "    font-weight: 600 !important;\n",
       "}\n",
       "\n",
       ".reveal, .md-slide {\n",
       "    color: white !important;\n",
       "}\n",
       "\n",
       "h1, h2 {\n",
       "    color: #00747b !important;\n",
       "}\n",
       "\n",
       "h3, h4, h5, h6 {\n",
       "    color: #808080 !important;\n",
       "}\n",
       "\n",
       ".reveal p, .reveal ol, .reveal dl, .reveal ul,\n",
       "div.text_cell_render {\n",
       "    color: #212529 !important;\n",
       "}\n",
       "\n",
       "/*copied from stackoverflow, better spacing between list items*/\n",
       "li + li {\n",
       "  margin-top: 0.2em;\n",
       "}\n",
       "\n",
       "body.rise-enabled .reveal ol, body.rise-enabled .reveal dl, body.rise-enabled .reveal ul {\n",
       "    margin-left: 0.1em;\n",
       "    margin-top: 0.2em;\n",
       "}\n",
       "\n",
       ".reveal .rendered_html h1:first-child,\n",
       ".reveal .rendered_html h2:first-child,\n",
       ".reveal .rendered_html h3:first-child,\n",
       ".reveal .rendered_html h4:first-child,\n",
       ".reveal .rendered_html h5:first-child {\n",
       "    margin-top: 0.2em;\n",
       "}\n",
       "\n",
       ".CodeMirror-lines, .output_text {\n",
       "    font-size: 1.5rem !important;\n",
       "}\n",
       "\n",
       "\n",
       "h1.plan, h2.plan, h3.plan {\n",
       "    text-align: center;\n",
       "    padding-bottom: 30px;\n",
       "}\n",
       "\n",
       "ul.plan>li>span.plan-bold {\n",
       "    font-size: 110%;\n",
       "    padding: 4px;\n",
       "    font-weight: bold;\n",
       "    background-color: #eee;\n",
       "}\n",
       "\n",
       "ul.plan>li>ul.subplan>li>span.plan-bold {\n",
       "    font-weight: bold;\n",
       "}\n",
       "\n",
       ".plan-strike {\n",
       "    opacity: 0.4;\n",
       "/*    text-decoration: line-through; */\n",
       "}\n",
       "\n",
       "div.plan-container {\n",
       "    display: grid;\n",
       "    grid-template-columns: 50% 50%;\n",
       "}\n",
       "\n",
       "/*\n",
       " * this is to void xarray's html output to show the fallback textual representation\n",
       " * see also\n",
       "   * xarray.md and\n",
       "   * https://github.com/damianavila/RISE/issues/594\n",
       " */\n",
       ".reveal pre.xr-text-repr-fallback {\n",
       "    display: none;\n",
       "}\n",
       "\n",
       "#toc-header, .toc-item li {\n",
       "    margin: auto !important;\n",
       "    color: #808080 !important;\n",
       "}\n",
       "\n",
       "#toc, #toc-wrapper, .toc-item-num, #toc a, .toc {\n",
       "    margin: auto !important;\n",
       "    color: #00747b !important;\n",
       "}\n",
       "\n",
       "#toc-wrapper {\n",
       "    top: auto !important;\n",
       "    bottom: auto !important;\n",
       "    margin-top: 2rem !important;\n",
       "    color: #00747b !important;\n",
       "}\n",
       "\n",
       "\n",
       "#rise-header {\n",
       "    margin: 10px;\n",
       "    left: 5%;\n",
       "}\n",
       "\n",
       "#rise-footer {\n",
       "    margin: 10px;\n",
       "    right: 5%;\n",
       "}\n",
       "\n",
       "#rise-backimage {\n",
       "    opacity: 0.70;\n",
       "}\n",
       "\n",
       ".reveal img {\n",
       "    max-width: 100%;\n",
       "}\n",
       "\n",
       "\n",
       ".md-slide.title {\n",
       "  position: relative;\n",
       "  top: -50%;\n",
       "  margin-left: 5%;\n",
       "}</style>"
      ],
      "text/plain": [
       "<IPython.core.display.HTML object>"
      ]
     },
     "execution_count": 6,
     "metadata": {},
     "output_type": "execute_result"
    }
   ],
   "source": [
    "%presentation_style"
   ]
  },
  {
   "cell_type": "code",
   "execution_count": 7,
   "metadata": {
    "hide_input": true,
    "init_cell": true,
    "slideshow": {
     "slide_type": "skip"
    },
    "tags": [
     "remove-input",
     "remove-output",
     "remove-input-nbconv",
     "remove-output-nbconv"
    ]
   },
   "outputs": [],
   "source": [
    "%%capture\n",
    "\n",
    "%set_random_seed 12"
   ]
  },
  {
   "cell_type": "code",
   "execution_count": 8,
   "metadata": {
    "hide_input": true,
    "init_cell": true,
    "slideshow": {
     "slide_type": "skip"
    },
    "tags": [
     "remove-input-nbconv",
     "remove-cell"
    ]
   },
   "outputs": [
    {
     "data": {
      "text/markdown": [
       "\n",
       "$\\newcommand{\\vect}[1]{{\\mathbf{\\boldsymbol{#1}} }}$\n",
       "$\\newcommand{\\amax}{{\\text{argmax}}}$\n",
       "$\\newcommand{\\P}{{\\mathbb{P}}}$\n",
       "$\\newcommand{\\E}{{\\mathbb{E}}}$\n",
       "$\\newcommand{\\R}{{\\mathbb{R}}}$\n",
       "$\\newcommand{\\Z}{{\\mathbb{Z}}}$\n",
       "$\\newcommand{\\N}{{\\mathbb{N}}}$\n",
       "$\\newcommand{\\C}{{\\mathbb{C}}}$\n",
       "$\\newcommand{\\abs}[1]{{ \\left| #1 \\right| }}$\n",
       "$\\newcommand{\\simpl}[1]{{\\Delta^{#1} }}$\n"
      ],
      "text/plain": [
       "<IPython.core.display.Markdown object>"
      ]
     },
     "metadata": {},
     "output_type": "display_data"
    }
   ],
   "source": [
    "%load_latex_macros"
   ]
  },
  {
   "cell_type": "markdown",
   "metadata": {
    "slideshow": {
     "slide_type": "slide"
    }
   },
   "source": [
    "<img src=\"_static/images/aai-institute-cover.svg\" alt=\"Snow\" style=\"width:100%;\">\n",
    "<div class=\"md-slide title\">\n",
    "    <h1>Introduction to Simulation-Based Inference</h1>\n",
    "</div>\n",
    "<div class=\"md-slide title\">\n",
    "    \n",
    "</div>\n",
    "<div class=\"md-slide title\">\n",
    "    <h2>Bayesian Parameter Inference for Simulation-Based Models</h2>\n",
    "</div>\n"
   ]
  },
  {
   "cell_type": "code",
   "execution_count": 9,
   "metadata": {},
   "outputs": [],
   "source": [
    "from typing import Callable\n",
    "\n",
    "import matplotlib.pyplot as plt\n",
    "import torch\n",
    "from tfl_training_sbi.config import (\n",
    "    default_remote_storage,\n",
    "    get_config,\n",
    ")\n",
    "from tfl_training_sbi.data_utils import (\n",
    "    SIRSimulation,\n",
    "    load_sir_data,\n",
    ")\n",
    "from torch import Tensor\n",
    "\n",
    "storage = default_remote_storage()\n",
    "c = get_config(reload=True)"
   ]
  },
  {
   "cell_type": "markdown",
   "metadata": {
    "slideshow": {
     "slide_type": "slide"
    }
   },
   "source": [
    "## Simulators are abundant in science and engineering\n",
    "\n",
    "<img src=\"_static/images/simulator_scales.png\" alt=\"Snow\" style=\"width:100%;\">\n"
   ]
  },
  {
   "cell_type": "markdown",
   "metadata": {
    "slideshow": {
     "slide_type": "subslide"
    }
   },
   "source": [
    "## What are simulation-based models?\n",
    "\n",
    "- Explicit models, e.g., ODEs, PDEs: \"simulator as numerical solver\"\n",
    "\n",
    "- Implicit models: \"simulator as black-box computer simulation\"\n",
    "\n",
    "- Anything in-between: input parameter $\\theta$ output simulated data $x$\n",
    "\n",
    "\\begin{equation}\n",
    "x = \\mathcal{M}\\_{\\text{simulator}}(\\theta)\n",
    "\\end{equation}\n"
   ]
  },
  {
   "cell_type": "markdown",
   "metadata": {
    "slideshow": {
     "slide_type": "subslide"
    }
   },
   "source": [
    "## Example: Simulating pandemics with the SIR model\n",
    "\n",
    "- Models epidemiological dynamics $\\to$ used during covid-19\n",
    "- Three states: **S**usceptible **I**nfected **R**ecovered\n",
    "\n",
    "<img src=\"_static/images/sir_grey.png\" alt=\"Snow\" style=\"width:30%;\">\n",
    "\n",
    "Dehning et al., Science, 2020\n"
   ]
  },
  {
   "cell_type": "markdown",
   "metadata": {
    "slideshow": {
     "slide_type": "subslide"
    }
   },
   "source": [
    "## Example: Simulating the covid pandemic with the SIR model\n",
    "\n",
    "<img src=\"_static/images/covid_modelling_example.png\" alt=\"Snow\" style=\"width:80%;\">\n",
    "\n",
    "tagesschau.de; Dehning et al., Science, 2020\n"
   ]
  },
  {
   "cell_type": "markdown",
   "metadata": {
    "slideshow": {
     "slide_type": "subslide"
    }
   },
   "source": [
    "## Scientific discovery with simulation-based models\n",
    "\n",
    "<img src=\"_static/images/scientific_discovery_loop.png\" alt=\"Snow\" style=\"width:100%;\">\n"
   ]
  },
  {
   "cell_type": "markdown",
   "metadata": {
    "slideshow": {
     "slide_type": "subslide"
    }
   },
   "source": [
    "## Example: Simulating pandemics with the SIR model\n",
    "\n",
    "- Initial condition: $S=N-1,\\; I=1,\\; R=0$\n",
    "- Infection rate $\\beta$\n",
    "- Recovery rate $\\gamma$\n",
    "- Population size $N$\n",
    "\n",
    "\\begin{align}\n",
    "N &= 100000\\\\\n",
    "\\beta &\\sim \\text{LogNormal}(\\log(0.4), 0.5)\\\\\n",
    "\\gamma &\\sim \\text{LogNormal}(\\log(1/8), 0.2) \\\\[5mm]\n",
    "\\frac{dS}{dt} &= -\\beta \\frac{SI}{N} \\\\\n",
    "\\frac{dI}{dt} &= \\beta \\frac{S I}{N} - \\gamma I\\\\\n",
    "\\frac{dR}{dt} &= \\gamma I\n",
    "\\end{align}\n"
   ]
  },
  {
   "cell_type": "markdown",
   "metadata": {
    "slideshow": {
     "slide_type": "subslide"
    }
   },
   "source": [
    "## Central challenge: find parameters $\\theta$ that reproduce data $x$\n",
    "\n",
    "- Search single-best fitting parameters (hand-tuning, grid-search, optimization)?\n",
    "  - Does not scale to high-dimensional problems\n",
    "  - What about uncertainty in data (aleatoric) and parameter estimates (epistemic)?\n",
    "  - What if there are multiple solutions?\n",
    "- ...?\n"
   ]
  },
  {
   "cell_type": "markdown",
   "metadata": {
    "slideshow": {
     "slide_type": "subslide"
    }
   },
   "source": [
    "<img src=\"_static/images/drake_pro_bayesian_inference.jpeg\" alt=\"Snow\" style=\"width:50%;\">\n"
   ]
  },
  {
   "cell_type": "markdown",
   "metadata": {
    "slideshow": {
     "slide_type": "subslide"
    }
   },
   "source": [
    "## Central challenge: find parameters $\\theta$ that reproduce data $x$\n",
    "\n",
    "### ~~search single best-fitting parameters~~\n",
    "\n",
    "### Bayesian inference\n",
    "\n",
    "<img src=\"_static/images/bayesian_inference.png\" alt=\"Snow\" style=\"width:90%;\">\n"
   ]
  },
  {
   "cell_type": "markdown",
   "metadata": {
    "slideshow": {
     "slide_type": "slide"
    }
   },
   "source": [
    "## Bayesian inference for simulation-based models\n",
    "\n",
    "### Difficult because likelihood usually not accessible\n",
    "\n",
    "- ODEs / black-box simulators do not have analytical expression for the likelihood $p(x | \\theta)$\n",
    "- **MCMC** or **variational inference** cannot be applied!\n",
    "\n",
    "\\begin{equation}\n",
    "p(\\theta |x) = \\frac{p(x | \\theta) \\; p(\\theta)}{p(x)} \\propto p(x | \\theta) \\; p(\\theta)\n",
    "\\end{equation}\n",
    "\n",
    "### Idea: use simulated data to circumvent lack of likelihood-access\n",
    "\n",
    "- We cannot evaluate the likelihood, but we can simulate data!\n",
    "- \"Likelihood-free\" inference\n"
   ]
  },
  {
   "cell_type": "markdown",
   "metadata": {
    "slideshow": {
     "slide_type": "subslide"
    }
   },
   "source": [
    "## Outline\n",
    "\n",
    "### Part 1: **Approximate Bayesian Computatin (ABC)**\n",
    "\n",
    "### Part 2: **Simulation-Based Inference (SBI)**\n"
   ]
  },
  {
   "cell_type": "markdown",
   "metadata": {
    "slideshow": {
     "slide_type": "subslide"
    }
   },
   "source": [
    "## Approximate Bayesian Computation (ABC)\n",
    "\n",
    "### Rejection sampling\n",
    "\n",
    "<img src=\"_static/images/ABC_concept_figure.png\" alt=\"Snow\" style=\"width:100%;\">\n",
    "\n",
    "Diggle et al. (1984), Beaumont et al. (2002), Figure from Boelts (2023)\n"
   ]
  },
  {
   "cell_type": "markdown",
   "metadata": {
    "slideshow": {
     "slide_type": "subslide"
    }
   },
   "source": [
    "## Approximate Bayesian Computation (ABC)\n",
    "\n",
    "<img src=\"_static/images/ABC_algorithm.png\" alt=\"Snow\" style=\"width:100%;\">\n"
   ]
  },
  {
   "cell_type": "markdown",
   "metadata": {
    "slideshow": {
     "slide_type": "slide"
    }
   },
   "source": [
    "# Questions?\n"
   ]
  },
  {
   "cell_type": "markdown",
   "metadata": {
    "slideshow": {
     "slide_type": "slide"
    }
   },
   "source": [
    "## Exercise 1: Implement rejection ABC for the SIR model\n",
    "\n",
    "<img src=\"_static/images/sir_grey.png\" alt=\"Snow\" style=\"width:40%;\">\n",
    "\n",
    "- Infection rate $\\beta$\n",
    "- Recovery rate $\\gamma$\n",
    "- Population size $N$\n",
    "- Initial condition: $N=100000, \\; S=N-1,\\; I=1,\\; R=0$\n",
    "\n",
    "\\begin{align}\n",
    "\\frac{dS}{dt} &= -\\beta \\frac{SI}{N} \\\\\n",
    "\\frac{dI}{dt} &= \\beta \\frac{S I}{N} - \\gamma I\\\\\n",
    "\\frac{dR}{dt} &= \\gamma I\n",
    "\\end{align}\n"
   ]
  },
  {
   "cell_type": "markdown",
   "metadata": {
    "slideshow": {
     "slide_type": "slide"
    }
   },
   "source": [
    "## Exercise 1: Implement rejection ABC for the SIR model\n",
    "\n",
    "- **Task**:\n",
    "\n",
    "  - We collected some PCR test results $x_o$\n",
    "  - Use the rejection ABC algorithm to infer the underlying rate $\\beta$ and $\\gamma$\n",
    "\n",
    "- **Setup**\n",
    "  - Prior and simulator are given:\n",
    "  - $x = $ \"10 evenly spaced samples in time from the infectious group $I$.\"\n",
    "\n",
    "\\begin{align}\n",
    "\\theta_i \\sim p(\\theta) &= p(\\beta)p(\\gamma) \\\\[3mm]\n",
    "x_i | \\theta_i &\\sim \\text{SIR}(\\beta_i, \\gamma_i)\n",
    "\\end{align}\n"
   ]
  },
  {
   "cell_type": "code",
   "execution_count": 10,
   "metadata": {
    "slideshow": {
     "slide_type": "skip"
    }
   },
   "outputs": [],
   "source": [
    "# load pre-simulated SIR data.\n",
    "sir_theta, sir_x = load_sir_data(c.data)\n",
    "sample_and_simulate = SIRSimulation(sir_theta[:-1], sir_x[:-1], simulator_lag=0.0001)\n",
    "\n",
    "# Simulate observed data (we take the last pre-simulated data point that is excluded above.)\n",
    "true_theta = sir_theta[-1:]\n",
    "x_o = sir_x[-1:]"
   ]
  },
  {
   "cell_type": "markdown",
   "metadata": {
    "slideshow": {
     "slide_type": "subslide"
    }
   },
   "source": [
    "## Task\n",
    "\n",
    "1. Implement a distance function\n",
    "2. Implement the rejection ABC algorithm\n",
    "3. Select an epsilon to obtain about 100 posterior samples\n"
   ]
  },
  {
   "cell_type": "markdown",
   "metadata": {
    "slideshow": {
     "slide_type": "subslide"
    }
   },
   "source": [
    "### Part 1: Implement a distance function\n"
   ]
  },
  {
   "cell_type": "code",
   "execution_count": 11,
   "metadata": {
    "slideshow": {
     "slide_type": "fragment"
    },
    "solution2": "shown",
    "solution2_first": true
   },
   "outputs": [],
   "source": [
    "def distance(x: Tensor, x_o: Tensor) -> Tensor:\n",
    "    \"\"\"Returns the mean squared error between x and x_o.\n",
    "\n",
    "    Note: the mean is taken over x, i.e., over the second dimension.\n",
    "\n",
    "    Args:\n",
    "        x: Tensor of simulated data, (batch, dim_x)\n",
    "        x_o: Tensor of observed data, (1, dim_x)\n",
    "\n",
    "    Returns:\n",
    "        distance: Tensor of MSEs, (batch, 1)\n",
    "    \"\"\"\n",
    "    # Your code goes here..."
   ]
  },
  {
   "cell_type": "code",
   "execution_count": 12,
   "metadata": {
    "slideshow": {
     "slide_type": "subslide"
    },
    "solution2": "shown"
   },
   "outputs": [],
   "source": [
    "# Part 1 solution.\n",
    "def distance(x: Tensor, x_o: Tensor) -> Tensor:\n",
    "    \"\"\"Returns the mean squared error between x and x_o.\n",
    "\n",
    "    Note: the mean is taken over x, i.e., over the second dimension.\n",
    "\n",
    "    Args:\n",
    "        x: Tensor of simulated data, (batch, dim_x)\n",
    "        x_o: Tensor of observed data, (1, dim_x)\n",
    "\n",
    "    Returns:\n",
    "        distance: Tensor of MSEs, (batch, 1)\n",
    "    \"\"\"\n",
    "    assert x_o.shape[0] == 1, \"x_o should have shape (1, dim_x)\"\n",
    "    assert x.shape[-1] == x_o.shape[-1], \"x and x_o should have the same last dimension\"\n",
    "\n",
    "    return torch.mean((x - x_o) ** 2, -1)"
   ]
  },
  {
   "cell_type": "markdown",
   "metadata": {
    "slideshow": {
     "slide_type": "subslide"
    }
   },
   "source": [
    "### Part 2: Implement the rejection ABC algorithm\n",
    "\n",
    "Implement rejection ABC:\n",
    "\n",
    "- A loop that repeatedly samples theta from the prior\n",
    "- Simulates corresponding data x (using the sample_and_simulate function)\n",
    "- And then accepts only those theta for which $x$ is close to $x_o$\n"
   ]
  },
  {
   "cell_type": "code",
   "execution_count": 13,
   "metadata": {
    "slideshow": {
     "slide_type": "fragment"
    },
    "solution2": "shown",
    "solution2_first": true
   },
   "outputs": [],
   "source": [
    "def rejection_abc(\n",
    "    num_simulations: int, sample_and_simulate: Callable, epsilon: float, x_o: Tensor\n",
    "):\n",
    "    \"\"\"Returns a tensor of accepted posteriors samples using the rejection ABC algorithm.\n",
    "\n",
    "    Args:\n",
    "        num_simulations: simulation budget\n",
    "        sample_and_simulate: a function that samples a parameter from the prior and simulates the SIR model.\n",
    "        epsilon: the rejection threshold for the distance between x and x_o.abs\n",
    "        x_o: the observed data.\n",
    "    Returns:\n",
    "        posterior_samples: the accepted theta, i.e., theta for which d(x, x_o) < epsilon.\n",
    "        theta: all sampled parameters (optional)\n",
    "        x: all simulated data (optional)\n",
    "    \"\"\"\n",
    "\n",
    "    posterior_samples = []\n",
    "    theta = []\n",
    "    x = []\n",
    "\n",
    "    # Your code goes here..."
   ]
  },
  {
   "cell_type": "code",
   "execution_count": 14,
   "metadata": {
    "slideshow": {
     "slide_type": "subslide"
    },
    "solution2": "shown"
   },
   "outputs": [],
   "source": [
    "# Part 2 solution.\n",
    "def rejection_abc(\n",
    "    num_simulations: int, sample_and_simulate: Callable, epsilon: float, x_o: Tensor\n",
    "):\n",
    "    \"\"\"Returns a tensor of accepted posteriors samples using the rejection ABC algorithm.\n",
    "\n",
    "    Args:\n",
    "        num_simulations: simulation budget\n",
    "        sample_and_simulate: a function that samples a parameter from the prior and simulates the SIR model.\n",
    "        epsilon: the rejection threshold for the distance between x and x_o.abs\n",
    "        x_o: the observed data.\n",
    "    Returns:\n",
    "        posterior_samples: the accepted theta, i.e., theta for which d(x, x_o) < epsilon.\n",
    "        theta: all sampled parameters (optional)\n",
    "        x: all simulated data (optional)\n",
    "    \"\"\"\n",
    "\n",
    "    posterior_samples = []\n",
    "    theta = []\n",
    "    x = []\n",
    "\n",
    "    for _ in range(num_simulations):\n",
    "        theta_i, x_i = sample_and_simulate()\n",
    "        theta.append(theta_i)\n",
    "        x.append(x_i)\n",
    "\n",
    "        if distance(x_i, x_o) < epsilon:\n",
    "            posterior_samples.append(theta_i)\n",
    "\n",
    "    print(f\"Rejection ABC: {len(posterior_samples)} accepted samples.\")\n",
    "\n",
    "    return torch.cat(posterior_samples), torch.cat(theta), torch.cat(x)"
   ]
  },
  {
   "cell_type": "markdown",
   "metadata": {
    "slideshow": {
     "slide_type": "subslide"
    }
   },
   "source": [
    "### Part 3: Obtain about 100 posterior samples\n",
    "\n",
    "Choose an epsilon and run the rejection ABC algorithm such that obtain about 100 posterior samples.\n"
   ]
  },
  {
   "cell_type": "code",
   "execution_count": 15,
   "metadata": {
    "slideshow": {
     "slide_type": "fragment"
    },
    "solution2": "shown",
    "solution2_first": true
   },
   "outputs": [],
   "source": [
    "# Your code goes here...\n",
    "\n",
    "# eps = ?\n",
    "# num_simulations = 50000\n",
    "# posterior_samples, theta, x = rejection_abc(...)"
   ]
  },
  {
   "cell_type": "code",
   "execution_count": 16,
   "metadata": {
    "slideshow": {
     "slide_type": "subslide"
    },
    "solution2": "shown"
   },
   "outputs": [
    {
     "name": "stdout",
     "output_type": "stream",
     "text": [
      "Rejection ABC: 115 accepted samples.\n"
     ]
    }
   ],
   "source": [
    "# Part 3 solution.\n",
    "eps = 0.5\n",
    "num_simulations = 50000\n",
    "posterior_samples, theta, x = rejection_abc(\n",
    "    num_simulations, sample_and_simulate, eps, x_o\n",
    ")"
   ]
  },
  {
   "cell_type": "markdown",
   "metadata": {
    "slideshow": {
     "slide_type": "subslide"
    }
   },
   "source": [
    "## Plotting\n",
    "\n",
    "Plot prior and posterior samples, and \"true\" underlying theta.\n"
   ]
  },
  {
   "cell_type": "code",
   "execution_count": 17,
   "metadata": {
    "slideshow": {
     "slide_type": "fragment"
    }
   },
   "outputs": [
    {
     "data": {
      "text/plain": [
       "<matplotlib.legend.Legend at 0x13fff5f40>"
      ]
     },
     "execution_count": 17,
     "metadata": {},
     "output_type": "execute_result"
    },
    {
     "data": {
      "image/png": "[encoded data removed]",
      "text/plain": [
       "<Figure size 640x480 with 1 Axes>"
      ]
     },
     "metadata": {},
     "output_type": "display_data"
    }
   ],
   "source": [
    "# Select number of samples for scatter plot.\n",
    "num_prior_samples = 5000\n",
    "plt.scatter(\n",
    "    theta[:num_prior_samples, 0],\n",
    "    theta[:num_prior_samples, 1],\n",
    "    s=5,\n",
    "    alpha=0.5,\n",
    "    label=\"prior\",\n",
    ")\n",
    "plt.scatter(\n",
    "    posterior_samples[:, 0], posterior_samples[:, 1], s=5, label=\"ABC-posterior\"\n",
    ")\n",
    "plt.scatter(*true_theta[0], marker=\"x\", color=\"k\", label=\"theta_o\")\n",
    "plt.xlabel(\"infection rate\")\n",
    "plt.ylabel(\"recovery rate\")\n",
    "plt.legend()"
   ]
  },
  {
   "cell_type": "markdown",
   "metadata": {
    "slideshow": {
     "slide_type": "slide"
    }
   },
   "source": [
    "# Summary\n",
    "\n",
    "## Simulation-based inference (SBI)\n",
    "\n",
    "- Use Bayesian inference to identify parameters of simulation-based models\n",
    "- Likelihood is not accessible $\\to$ use data simulated from the model instead\n"
   ]
  },
  {
   "cell_type": "markdown",
   "metadata": {
    "slideshow": {
     "slide_type": "fragment"
    }
   },
   "source": [
    "## Part 1: \"Classical SBI\" aka Approximate Bayesian Computation (ABC)\n",
    "\n",
    "<img src=\"_static/images/ABC_concept_figure.png\" alt=\"Snow\" style=\"width:100%;\">\n",
    "\n",
    "### Advantage\n",
    "\n",
    "- Conceptually simple: fast to implement\n",
    "\n",
    "### Disadvantages\n",
    "\n",
    "- Curse of dimensionality: what if $\\theta$ or $x$ is high-dimensional?\n"
   ]
  },
  {
   "cell_type": "markdown",
   "metadata": {
    "slideshow": {
     "slide_type": "subslide"
    }
   },
   "source": [
    "## Part 2: Machine learning-powered simulation-based inference\n",
    "\n",
    "Use _conditional density estimation_ to learn a parametric approximation to the\n",
    "posterior distribution: **neural density estimation**.\n",
    "\n",
    "<img src=\"_static/images/sbi_concept_figure.png\" alt=\"Snow\" style=\"width:100%;\">\n",
    "\n",
    "Papamakarios et al. 2016; Cranmer et al. 2020, Figure from Boelts (2023)\n"
   ]
  },
  {
   "cell_type": "markdown",
   "metadata": {
    "slideshow": {
     "slide_type": "slide"
    },
    "tags": [
     "remove-cell",
     "remove-cell-nbconv"
    ]
   },
   "source": [
    "<img src=\"_static/images/aai-institute-cover.svg\" alt=\"Snow\" style=\"width:100%;\">\n",
    "<div class=\"md-slide title\">\n",
    "    <h2>Thank you for the attention!</h2>\n",
    "</div>\n"
   ]
  }
 ],
 "metadata": {
  "celltoolbar": "Slideshow",
  "kernelspec": {
   "display_name": "Python 3 (ipykernel)",
   "language": "python",
   "name": "python3"
  },
  "language_info": {
   "codemirror_mode": {
    "name": "ipython",
    "version": 3
   },
   "file_extension": ".py",
   "mimetype": "text/x-python",
   "name": "python",
   "nbconvert_exporter": "python",
   "pygments_lexer": "ipython3",
   "version": "3.9.18"
  },
  "rise": {
   "footer": "<img src='_static/images/aai-logo.png' alt='logo' height='50em'>",
   "header": "<img src='_static/images/transferlab-logo.svg' alt='logo' height='20em' />",
   "theme": "white"
  },
  "toc": {
   "base_numbering": 1,
   "nav_menu": {
    "height": "148px",
    "width": "256px"
   },
   "number_sections": false,
   "sideBar": true,
   "skip_h1_title": false,
   "title_cell": "Table of Contents",
   "title_sidebar": "Contents",
   "toc_cell": false,
   "toc_position": {
    "height": "563.2px",
    "left": "125px",
    "top": "116.469px",
    "width": "315.6px"
   },
   "toc_section_display": true,
   "toc_window_display": false
  },
  "varInspector": {
   "cols": {
    "lenName": 16,
    "lenType": 16,
    "lenVar": 40
   },
   "kernels_config": {
    "python": {
     "delete_cmd_postfix": "",
     "delete_cmd_prefix": "del ",
     "library": "var_list.py",
     "varRefreshCmd": "print(var_dic_list())"
    },
    "r": {
     "delete_cmd_postfix": ") ",
     "delete_cmd_prefix": "rm(",
     "library": "var_list.r",
     "varRefreshCmd": "cat(var_dic_list()) "
    }
   },
   "types_to_exclude": [
    "module",
    "function",
    "builtin_function_or_method",
    "instance",
    "_Feature"
   ],
   "window_display": false
  }
 },
 "nbformat": 4,
 "nbformat_minor": 1
}
