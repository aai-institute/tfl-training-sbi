{
 "cells": [
  {
   "cell_type": "code",
   "execution_count": 5,
   "metadata": {
    "hide_input": true,
    "init_cell": true,
    "slideshow": {
     "slide_type": "skip"
    },
    "tags": [
     "remove-input",
     "remove-output",
     "remove-input-nbconv",
     "remove-output-nbconv"
    ]
   },
   "outputs": [],
   "source": [
    "%%capture\n",
    "\n",
    "%load_ext autoreload\n",
    "%autoreload 2\n",
    "%matplotlib inline\n",
    "%load_ext tfl_training_sbi"
   ]
  },
  {
   "cell_type": "code",
   "execution_count": 6,
   "metadata": {
    "hide_input": true,
    "init_cell": true,
    "slideshow": {
     "slide_type": "skip"
    },
    "tags": [
     "remove-input",
     "remove-input-nbconv"
    ]
   },
   "outputs": [
    {
     "data": {
      "text/html": [
       "<style>/*\n",
       "This file is mainly copy-pasta from rise's examples\n",
       "https://github.com/damianavila/RISE/blob/master/examples/rise.css\n",
       "that was further customized for appliedAI purposes\n",
       "*/\n",
       "@import url('https://fonts.googleapis.com/css2?family=Work+Sans:wght@400&display=swap');\n",
       "\n",
       "\n",
       "body {\n",
       "    font-family: 'Work Sans', sans-serif !important;\n",
       "    text-transform: initial !important;\n",
       "    letter-spacing: initial !important;\n",
       "    font-weight: 400 !important;\n",
       "    line-height: 1.5 !important;\n",
       "    text-size-adjust: 100% !important;\n",
       "    ‑webkit‑text‑size‑adjust: 100% !important;\n",
       "}\n",
       "\n",
       "\n",
       ".reveal, div.text_cell_render, .md-slide, .sidebar-wrapper {\n",
       "    font-size: 1.5rem !important;\n",
       "}\n",
       "\n",
       ".navbar-default .navbar-nav > li > a {\n",
       "    color: #00747b !important;\n",
       "}\n",
       "\n",
       ".filename {\n",
       "    font-size: 2.4rem !important;\n",
       "    color: #212529 !important;\n",
       "    font-weight: 600 !important;\n",
       "}\n",
       "\n",
       ".reveal, .md-slide {\n",
       "    color: white !important;\n",
       "}\n",
       "\n",
       "h1, h2 {\n",
       "    color: #00747b !important;\n",
       "}\n",
       "\n",
       "h3, h4, h5, h6 {\n",
       "    color: #808080 !important;\n",
       "}\n",
       "\n",
       ".reveal p, .reveal ol, .reveal dl, .reveal ul,\n",
       "div.text_cell_render {\n",
       "    color: #212529 !important;\n",
       "}\n",
       "\n",
       "/*copied from stackoverflow, better spacing between list items*/\n",
       "li + li {\n",
       "  margin-top: 0.2em;\n",
       "}\n",
       "\n",
       "body.rise-enabled .reveal ol, body.rise-enabled .reveal dl, body.rise-enabled .reveal ul {\n",
       "    margin-left: 0.1em;\n",
       "    margin-top: 0.2em;\n",
       "}\n",
       "\n",
       ".reveal .rendered_html h1:first-child,\n",
       ".reveal .rendered_html h2:first-child,\n",
       ".reveal .rendered_html h3:first-child,\n",
       ".reveal .rendered_html h4:first-child,\n",
       ".reveal .rendered_html h5:first-child {\n",
       "    margin-top: 0.2em;\n",
       "}\n",
       "\n",
       ".CodeMirror-lines, .output_text {\n",
       "    font-size: 1.5rem !important;\n",
       "}\n",
       "\n",
       "\n",
       "h1.plan, h2.plan, h3.plan {\n",
       "    text-align: center;\n",
       "    padding-bottom: 30px;\n",
       "}\n",
       "\n",
       "ul.plan>li>span.plan-bold {\n",
       "    font-size: 110%;\n",
       "    padding: 4px;\n",
       "    font-weight: bold;\n",
       "    background-color: #eee;\n",
       "}\n",
       "\n",
       "ul.plan>li>ul.subplan>li>span.plan-bold {\n",
       "    font-weight: bold;\n",
       "}\n",
       "\n",
       ".plan-strike {\n",
       "    opacity: 0.4;\n",
       "/*    text-decoration: line-through; */\n",
       "}\n",
       "\n",
       "div.plan-container {\n",
       "    display: grid;\n",
       "    grid-template-columns: 50% 50%;\n",
       "}\n",
       "\n",
       "/*\n",
       " * this is to void xarray's html output to show the fallback textual representation\n",
       " * see also\n",
       "   * xarray.md and\n",
       "   * https://github.com/damianavila/RISE/issues/594\n",
       " */\n",
       ".reveal pre.xr-text-repr-fallback {\n",
       "    display: none;\n",
       "}\n",
       "\n",
       "#toc-header, .toc-item li {\n",
       "    margin: auto !important;\n",
       "    color: #808080 !important;\n",
       "}\n",
       "\n",
       "#toc, #toc-wrapper, .toc-item-num, #toc a, .toc {\n",
       "    margin: auto !important;\n",
       "    color: #00747b !important;\n",
       "}\n",
       "\n",
       "#toc-wrapper {\n",
       "    top: auto !important;\n",
       "    bottom: auto !important;\n",
       "    margin-top: 2rem !important;\n",
       "    color: #00747b !important;\n",
       "}\n",
       "\n",
       "\n",
       "#rise-header {\n",
       "    margin: 10px;\n",
       "    left: 5%;\n",
       "}\n",
       "\n",
       "#rise-footer {\n",
       "    margin: 10px;\n",
       "    right: 5%;\n",
       "}\n",
       "\n",
       "#rise-backimage {\n",
       "    opacity: 0.70;\n",
       "}\n",
       "\n",
       ".reveal img {\n",
       "    max-width: 100%;\n",
       "}\n",
       "\n",
       "\n",
       ".md-slide.title {\n",
       "  position: relative;\n",
       "  top: -50%;\n",
       "  margin-left: 5%;\n",
       "}</style>"
      ],
      "text/plain": [
       "<IPython.core.display.HTML object>"
      ]
     },
     "execution_count": 6,
     "metadata": {},
     "output_type": "execute_result"
    }
   ],
   "source": [
    "%presentation_style"
   ]
  },
  {
   "cell_type": "code",
   "execution_count": 7,
   "metadata": {
    "hide_input": true,
    "init_cell": true,
    "slideshow": {
     "slide_type": "skip"
    },
    "tags": [
     "remove-input",
     "remove-output",
     "remove-input-nbconv",
     "remove-output-nbconv"
    ]
   },
   "outputs": [],
   "source": [
    "%%capture\n",
    "\n",
    "%set_random_seed 12"
   ]
  },
  {
   "cell_type": "code",
   "execution_count": 8,
   "metadata": {
    "hide_input": true,
    "init_cell": true,
    "slideshow": {
     "slide_type": "skip"
    },
    "tags": [
     "remove-input-nbconv",
     "remove-cell"
    ]
   },
   "outputs": [
    {
     "data": {
      "text/markdown": [
       "\n",
       "$\\newcommand{\\vect}[1]{{\\mathbf{\\boldsymbol{#1}} }}$\n",
       "$\\newcommand{\\amax}{{\\text{argmax}}}$\n",
       "$\\newcommand{\\P}{{\\mathbb{P}}}$\n",
       "$\\newcommand{\\E}{{\\mathbb{E}}}$\n",
       "$\\newcommand{\\R}{{\\mathbb{R}}}$\n",
       "$\\newcommand{\\Z}{{\\mathbb{Z}}}$\n",
       "$\\newcommand{\\N}{{\\mathbb{N}}}$\n",
       "$\\newcommand{\\C}{{\\mathbb{C}}}$\n",
       "$\\newcommand{\\abs}[1]{{ \\left| #1 \\right| }}$\n",
       "$\\newcommand{\\simpl}[1]{{\\Delta^{#1} }}$\n"
      ],
      "text/plain": [
       "<IPython.core.display.Markdown object>"
      ]
     },
     "metadata": {},
     "output_type": "display_data"
    }
   ],
   "source": [
    "%load_latex_macros"
   ]
  },
  {
   "cell_type": "markdown",
   "metadata": {
    "slideshow": {
     "slide_type": "slide"
    }
   },
   "source": [
    "<img src=\"_static/images/aai-institute-cover.svg\" alt=\"Snow\" style=\"width:100%;\">\n",
    "<div class=\"md-slide title\">Neural Density Estimation</div>"
   ]
  },
  {
   "cell_type": "code",
   "execution_count": 9,
   "metadata": {
    "slideshow": {
     "slide_type": "skip"
    }
   },
   "outputs": [],
   "source": [
    "import matplotlib.pyplot as plt\n",
    "import numpy as np\n",
    "import sbi.analysis\n",
    "import torch\n",
    "import torch.nn as nn\n",
    "\n",
    "from torch.utils.data import DataLoader\n",
    "from torchvision.transforms import Compose\n",
    "from tqdm.notebook import trange, tqdm\n",
    "\n",
    "from tfl_training_sbi import mdn\n",
    "from tfl_training_sbi.config import (\n",
    "    default_remote_storage,\n",
    "    get_config,\n",
    "    root_dir,\n",
    ")\n",
    "from tfl_training_sbi.data_utils import (\n",
    "    SIRSimulation,\n",
    "    SIRStdScaler,\n",
    "    load_sir_data,\n",
    ")\n",
    "from tfl_training_sbi.utils_sir import eval_sir_model\n",
    "\n",
    "storage = default_remote_storage()\n",
    "c = get_config(reload=True)\n"
   ]
  },
  {
   "cell_type": "markdown",
   "metadata": {
    "slideshow": {
     "slide_type": "slide"
    }
   },
   "source": [
    "# Introduction to Neural Density Estimation for SBI\n",
    "\n",
    "- We've seen Likelihood-free inference with ABC\n",
    "- We've seen Conditional Density Estimation\n",
    "\n",
    "Now, we'll combine the idea of Likelihood-free inference with Density Estimation, i.e. Simulation-based inference (SBI)\n",
    "\n",
    "<figure>\n",
    "    <center>\n",
    "    <img src=\"_static/images/sbi_concept_figure.png\" style=\"width:50%\"/>\n",
    "    <figcaption>Fig. 1 - Schematic overview of SBI. Figure taken from Jan Boelts, 2023</figcaption>\n",
    "</figure>\n"
   ]
  },
  {
   "cell_type": "markdown",
   "metadata": {
    "slideshow": {
     "slide_type": "slide"
    }
   },
   "source": [
    "## Neural Density Estimation for SBI\n",
    "\n",
    "Parameterization vs. Learning of a distribution.\n",
    "\n",
    "Methodologies: \n",
    "\n",
    "- Neural Posterior Estimation (NPE) $\\leftarrow$ **This notebook**\n",
    "- Neural Likelihood Estimation (NLE)\n",
    "- Neural Ratio Estimation (NRE)\n",
    "- Neural Score Estimation (NSE)\n",
    "- ...\n",
    "- And even sequential variants!\n"
   ]
  },
  {
   "cell_type": "markdown",
   "metadata": {
    "slideshow": {
     "slide_type": "slide"
    }
   },
   "source": [
    "## Idea of Neural Posterior Estimation\n",
    "\n",
    "- Learn the posterior $p(\\theta|x)$ of a parameter $\\theta$ given data $x$ using Conditional Density Estimation\n",
    "- Learn an estimator for $p(\\theta|x)$ on data from the joint distribution $p(\\theta, x)$\n",
    "$$\n",
    "p(\\theta \\mid x) \\propto p(x \\mid \\theta) p(\\theta) = p(\\theta, x)\n",
    "$$"
   ]
  },
  {
   "cell_type": "markdown",
   "metadata": {
    "slideshow": {
     "slide_type": "slide"
    }
   },
   "source": [
    "## Sampling from the Joint Distribution\n",
    "\n",
    " 1. Define a prior $p(\\theta)$\n",
    " 2. Define a simulator / generator $g(\\theta)$\n",
    " 3. Draw sample $\\theta \\sim p(\\theta)$ and obtain $x = g(\\theta)$, where $x\\sim p(x\\mid\\theta)$\n",
    "\n",
    "$$\n",
    "p(\\theta, x) = p(\\theta) p(x \\mid \\theta)\n",
    "$$"
   ]
  },
  {
   "cell_type": "markdown",
   "metadata": {
    "slideshow": {
     "slide_type": "slide"
    }
   },
   "source": [
    "## Posterior decomposition\n",
    "\n",
    "<figure>\n",
    "    <center>\n",
    "    <img src=\"_static/images/illustration_posterior.png\" style=\"width:50%\"/>\n",
    "    <figcaption>Fig. 2 - Figure taken from <a href=\"https://mlcolab.org/simulation-based-inference-for-scientific-discovery\">MLColab</a></figcaption>\n",
    "</figure>"
   ]
  },
  {
   "cell_type": "markdown",
   "metadata": {
    "slideshow": {
     "slide_type": "slide"
    }
   },
   "source": [
    "## Example: Neural Posterior Estimation\n",
    "\n",
    "We will learn the parameterization of Gaussian mixture model using a neural\n",
    "network.\n",
    "\n",
    "Parameters will be adapted using the maximum likelihood principle: minimizing\n",
    "the negative log-likelihood of the data under the model.\n",
    "\n",
    "We will use a Mixture Density Network (MDN) to do so, as seen before. \n",
    "\n",
    "Note: there are more powerful neural density estimators, e.g. Normalizing Flows, or Diffusion Models.\n",
    "\n",
    "<figure>\n",
    "    <center>\n",
    "    <img src=\"_static/images/illustration_npe_mdn.png\" style=\"width:50%\"/>\n",
    "    <figcaption>Fig. 3 - Figure taken from <a href=\"https://mlcolab.org/simulation-based-inference-for-scientific-discovery\">MLColab</a></figcaption>\n",
    "</figure>\n"
   ]
  },
  {
   "cell_type": "markdown",
   "metadata": {
    "slideshow": {
     "slide_type": "slide"
    }
   },
   "source": [
    "### Example Data: SIR Dataset\n",
    "\n",
    "For this example, the SIR dataset is used. \n",
    "\n",
    "**Task:** Load the data and get familiar with it. Again, a pseudo simulator is\n",
    "provided. "
   ]
  },
  {
   "cell_type": "code",
   "execution_count": 10,
   "metadata": {
    "slideshow": {
     "slide_type": "slide"
    }
   },
   "outputs": [],
   "source": [
    "# we provide a pre-computed dataset according to the differential equations\n",
    "# defining the SIR model.\n",
    "# the pseudo simulator draws samples at random\n",
    "sir_theta, sir_x = load_sir_data(c.data)\n",
    "# load class for z-scoring SIR data.\n",
    "sir_scaler = SIRStdScaler()\n",
    "simulator = SIRSimulation(\n",
    "    sir_theta[:-1], sir_x[:-1], transformations=Compose([sir_scaler])\n",
    ")\n"
   ]
  },
  {
   "cell_type": "code",
   "execution_count": 11,
   "metadata": {
    "slideshow": {
     "slide_type": "slide"
    }
   },
   "outputs": [],
   "source": [
    "# let's fix the last pair as observation\n",
    "theta_o_raw, x_o_raw = torch.tensor(sir_theta[-1:]), torch.tensor(sir_x[-1:])\n",
    "# z-scoring\n",
    "scaled_data = sir_scaler({\"theta\": theta_o_raw, \"obs\": x_o_raw})\n",
    "theta_o, x_o = scaled_data[\"theta\"], scaled_data[\"obs\"]\n"
   ]
  },
  {
   "cell_type": "code",
   "execution_count": 12,
   "metadata": {
    "slideshow": {
     "slide_type": "slide"
    }
   },
   "outputs": [
    {
     "data": {
      "image/png": "[encoded data removed]",
      "text/plain": [
       "<Figure size 800x600 with 1 Axes>"
      ]
     },
     "metadata": {},
     "output_type": "display_data"
    }
   ],
   "source": [
    "# familiarize yourself with the data; feel free to call this cell several times\n",
    "# as the observation is randomly sampled\n",
    "plt.figure(figsize=(8, 6))\n",
    "plt.plot(simulator()[1][:].T, \"o-\", alpha=1.0)\n",
    "plt.title(\"Sample from the simulator, given infection rate and recovery rate\")\n",
    "plt.ylabel(\"Number of infections\")\n",
    "plt.xlabel(\"Sampled time steps\")\n",
    "plt.show()\n"
   ]
  },
  {
   "cell_type": "markdown",
   "metadata": {
    "slideshow": {
     "slide_type": "slide"
    },
    "solution2": "shown",
    "solution2_first": true
   },
   "source": [
    "**Task:** Define a `torch DataLoader` object which uses the above defined dataset with a suitable batch size. Feel free to experiment with `shuffle` and `drop_last` options. Why and how would you use them?"
   ]
  },
  {
   "cell_type": "code",
   "execution_count": 13,
   "metadata": {
    "solution2": "shown"
   },
   "outputs": [],
   "source": [
    "# define a torch DatLoader\n",
    "# preprocessing of data, e.g. standardization happens in the Dataset, i.e. simulator\n",
    "sir_dataloader = DataLoader(simulator, batch_size=1024, shuffle=True, drop_last=True)\n"
   ]
  },
  {
   "cell_type": "markdown",
   "metadata": {
    "slideshow": {
     "slide_type": "slide"
    },
    "solution2": "shown",
    "solution2_first": true
   },
   "source": [
    "**Task:** We're using a Gaussian mixture model to approximate the posterior. The here used `MDN` module allows to provide a `hidden_net` for feature extraction. Define a fully connected feature extractor and initialize a Mixture Density Network as density estimator. Feel free to use the below structure.\n",
    "\n",
    "Furthermore, think about the following parameters. What did you choose?\n",
    "\n",
    "- `features`: number of variable in the problem\n",
    "- `num_components`: number of Gaussians in the mixture \n",
    "- `hidden_features`: output dim. of the linear layer from the feature extractor \n",
    "\n",
    "\n",
    "```python\n",
    "<YOUR-FEAT-EXTRACTOR> = nn.Sequential(\n",
    "    ...,\n",
    ")\n",
    "\n",
    "mixture_density_net = mdn.MultivariateGaussianMDN(\n",
    "    features=<TODO>,\n",
    "    hidden_net=<YOUR-FEAT-EXTRACTOR>,\n",
    "    num_components=<TODO>,\n",
    "    hidden_features=<TODO>,\n",
    ")\n",
    "\n",
    "```"
   ]
  },
  {
   "cell_type": "code",
   "execution_count": 14,
   "metadata": {
    "solution2": "shown"
   },
   "outputs": [],
   "source": [
    "# initialize the mixture density network, parameterizing a\n",
    "# `num_components`-component mixture of Gaussians with `features`\n",
    "# features, i.e. variables\n",
    "mixture_density_net = mdn.MultivariateGaussianMDN(\n",
    "    features=2,\n",
    "    hidden_net=nn.Sequential(\n",
    "        nn.Linear(10, 32),\n",
    "        nn.ReLU(),\n",
    "        nn.Linear(32, 32),\n",
    "        nn.ReLU(),\n",
    "        nn.Linear(32, 16),\n",
    "        nn.ReLU(),\n",
    "    ),\n",
    "    num_components=4,\n",
    "    hidden_features=16,\n",
    ")\n"
   ]
  },
  {
   "cell_type": "code",
   "execution_count": 21,
   "metadata": {
    "slideshow": {
     "slide_type": "slide"
    }
   },
   "outputs": [
    {
     "data": {
      "application/vnd.jupyter.widget-view+json": {
       "model_id": "080cf1b9faf14d908b9a93cc1e5e091e",
       "version_major": 2,
       "version_minor": 0
      },
      "text/plain": [
       "  0%|          | 0/20 [00:00<?, ?it/s]"
      ]
     },
     "metadata": {},
     "output_type": "display_data"
    }
   ],
   "source": [
    "loss_hist = []\n",
    "num_epochs = 20\n",
    "\n",
    "# fit MDN using negative log-likelihood loss\n",
    "opt = torch.optim.Adam(mixture_density_net.parameters(), lr=0.001)\n",
    "for e in trange(num_epochs):\n",
    "    for batch in sir_dataloader:\n",
    "        theta_batch, x_batch = batch[\"theta\"], batch[\"obs\"]\n",
    "\n",
    "        opt.zero_grad()\n",
    "\n",
    "        # get the mixture components\n",
    "        (\n",
    "            weights_of_each_gaussian,\n",
    "            means,\n",
    "            variances,\n",
    "        ) = mixture_density_net.get_mixture_components(x_batch)\n",
    "\n",
    "        # compute Likelihood of sample under current parameterization\n",
    "        log_probs = mdn.mog_log_prob(\n",
    "            theta_batch, weights_of_each_gaussian, means, variances\n",
    "        )\n",
    "\n",
    "        # compute the negative log-likelihood loss\n",
    "        loss = -log_probs.sum()\n",
    "        loss.backward()\n",
    "\n",
    "        # track  the loss per batch\n",
    "        loss_hist.append(loss.item())\n",
    "\n",
    "        # update the parameters using gradient descent\n",
    "        opt.step()\n"
   ]
  },
  {
   "cell_type": "code",
   "execution_count": 22,
   "metadata": {
    "slideshow": {
     "slide_type": "slide"
    }
   },
   "outputs": [
    {
     "data": {
      "image/png": "[encoded data removed]",
      "text/plain": [
       "<Figure size 1200x400 with 1 Axes>"
      ]
     },
     "metadata": {},
     "output_type": "display_data"
    }
   ],
   "source": [
    "plt.figure(figsize=(12, 4))\n",
    "plt.plot(loss_hist)\n",
    "plt.xlabel(\"Step\")\n",
    "plt.ylabel(\"Loss\")\n",
    "plt.show()\n"
   ]
  },
  {
   "cell_type": "markdown",
   "metadata": {
    "slideshow": {
     "slide_type": "slide"
    }
   },
   "source": [
    "### Inspecting the Approximated Posterior Distribution\n",
    "\n",
    "We have trained a MDN to approximate the posterior distribution over SIR parameters, $\\hat{p}(\\theta \\mid\n",
    "x_o)$. \n",
    "\n",
    "Below, we will inspect the learned posterior distribution by\n",
    "\n",
    "1. Drawing samples and visualizing the two-dimensional posterior distribution\n",
    "2. Simulating data with samples from the posterior and compare to the original observation $x_o$.\n"
   ]
  },
  {
   "cell_type": "markdown",
   "metadata": {
    "slideshow": {
     "slide_type": "slide"
    },
    "solution2": "shown",
    "solution2_first": true
   },
   "source": [
    "**Task:** Use the trained posterior approximator to sample from the conditional distribution, given the test observation. \n",
    "\n",
    "Therefore, obtain the parameters for the Gaussian mixture using the `.get_mixture_components(..)` method of the density estimator object. Then, use the `mog_sample(..)` function of the `mdn` module.\n",
    "\n",
    "In order to stick with following cells, please store the obtained samples in a tensor called `samples`."
   ]
  },
  {
   "cell_type": "code",
   "execution_count": 17,
   "metadata": {
    "solution2": "shown"
   },
   "outputs": [
    {
     "data": {
      "application/vnd.jupyter.widget-view+json": {
       "model_id": "49f0153d25e04801ae3b965970e12dea",
       "version_major": 2,
       "version_minor": 0
      },
      "text/plain": [
       "  0%|          | 0/50000 [00:00<?, ?it/s]"
      ]
     },
     "metadata": {},
     "output_type": "display_data"
    }
   ],
   "source": [
    "num_samples = 50_000\n",
    "samples = []\n",
    "\n",
    "# get the posterior, i.e. get the mixture components\n",
    "weights, means, variances = mixture_density_net.get_mixture_components(x_o)\n",
    "\n",
    "for _ in trange(num_samples):\n",
    "    # sample form mixture of Gaussians\n",
    "    sample = mdn.mog_sample(weights, means, variances)\n",
    "    samples.append(sample)\n",
    "\n",
    "samples = torch.cat(samples).detach()"
   ]
  },
  {
   "cell_type": "markdown",
   "metadata": {
    "slideshow": {
     "slide_type": "slide"
    }
   },
   "source": [
    "#### Great, you've run through your first SBI workflow! 🎉"
   ]
  },
  {
   "cell_type": "code",
   "execution_count": 18,
   "metadata": {
    "slideshow": {
     "slide_type": "slide"
    }
   },
   "outputs": [
    {
     "data": {
      "application/vnd.jupyter.widget-view+json": {
       "model_id": "0143f8cf3b524b0f97c87e5aa2b72613",
       "version_major": 2,
       "version_minor": 0
      },
      "text/plain": [
       "  0%|          | 0/1000 [00:00<?, ?it/s]"
      ]
     },
     "metadata": {},
     "output_type": "display_data"
    }
   ],
   "source": [
    "# rescale to original parameter ranges.\n",
    "samples_unscaled = sir_scaler.rescale(\n",
    "    {\"theta\": samples, \"obs\": torch.ones_like(samples)}\n",
    ")[\"theta\"]\n",
    "\n",
    "# eval. the SIR model for a selected number of samples\n",
    "sample_obs = []\n",
    "for i in trange(1_000):\n",
    "    samples_obs = eval_sir_model(theta=samples_unscaled[i], population_size=1_000_000)\n",
    "    sample_obs.append(samples_obs)\n",
    "\n",
    "# stack the collected samples into a big array of shape (N, 160, 3)\n",
    "sample_obs = np.stack(sample_obs, axis=0)"
   ]
  },
  {
   "cell_type": "markdown",
   "metadata": {
    "slideshow": {
     "slide_type": "slide"
    }
   },
   "source": [
    "### Inspect Resulting Posterior Approximation\n",
    "\n",
    "Plot the marginal distributions per parameter and the joint distribution of the\n",
    "parameters.\n"
   ]
  },
  {
   "cell_type": "code",
   "execution_count": 19,
   "metadata": {
    "slideshow": {
     "slide_type": "subslide"
    }
   },
   "outputs": [
    {
     "data": {
      "image/png": "[encoded data removed]",
      "text/plain": [
       "<Figure size 1000x1000 with 4 Axes>"
      ]
     },
     "metadata": {},
     "output_type": "display_data"
    }
   ],
   "source": [
    "_ = sbi.analysis.pairplot(\n",
    "    samples_unscaled, points=theta_o_raw, points_offdiag={\"markersize\": 10}, points_colors=\"r\", \n",
    "    labels=[\"infection rate\", \"recovery rate\"],\n",
    ")"
   ]
  },
  {
   "cell_type": "code",
   "execution_count": 20,
   "metadata": {
    "slideshow": {
     "slide_type": "subslide"
    }
   },
   "outputs": [
    {
     "data": {
      "image/png": "[encoded data removed]",
      "text/plain": [
       "<Figure size 1200x400 with 1 Axes>"
      ]
     },
     "metadata": {},
     "output_type": "display_data"
    }
   ],
   "source": [
    "# eval the SIR model for the true parameters to get a full scale observation\n",
    "obs_x_full_scale = eval_sir_model(theta=theta_o_raw.numpy()[0], population_size=1_000_000)\n",
    "\n",
    "plt.figure(figsize=(12, 4))\n",
    "plt.plot(obs_x_full_scale[:, 1], \"-\", alpha=1.0, label=\"x_o\")\n",
    "plt.plot(sample_obs[:, :, 1].T, \"y--\", alpha=.15)\n",
    "\n",
    "plt.xlabel(\"time $t$\")\n",
    "plt.ylabel(\"Proportion of infected people (I)\")\n",
    "plt.legend([\"x_o\", \"simulated from posterior\"]);"
   ]
  },
  {
   "cell_type": "markdown",
   "metadata": {
    "slideshow": {
     "slide_type": "slide"
    }
   },
   "source": [
    "## Treatment of Time Series Data\n",
    "\n",
    "- Subsampling \n",
    "- Summary Statistics\n",
    "- Feature Extraction via different models \n",
    "\n",
    "<figure>\n",
    "    <center>\n",
    "    <img src=\"_static/images/illustration_mdn_feat_extraction.png\" style=\"width:50%\"/>\n",
    "    <figcaption>Fig. 4 - Pre-pending a powerful feature extractor might be necessary in order to obtain meaningful features from time series data. Figure taken from <a href=\"https://mlcolab.org/simulation-based-inference-for-scientific-discovery\">MLColab</a></figcaption>\n",
    "</figure>"
   ]
  },
  {
   "cell_type": "markdown",
   "metadata": {
    "slideshow": {
     "slide_type": "slide"
    }
   },
   "source": [
    "## Sequential Neural * Estimation \n",
    "\n",
    "- Sample inefficiency is a problem of SBI, esp. for costly simulators\n",
    "- Many samples from the prior yield observations with low likelihood\n",
    "- **Idea:** re-condition the prior sequentially on the observed data to narrow\n",
    "  the \"search space\" --> Sequential Estimation"
   ]
  },
  {
   "cell_type": "markdown",
   "metadata": {
    "slideshow": {
     "slide_type": "slide"
    }
   },
   "source": [
    "## Example: Sequential Posterior Estimation (SNPE)\n",
    "\n",
    "1. Train a neural density estimator $\\hat{p}_{\\phi}^{(i)}(\\theta \\mid\n",
    "   \\mathbf{x})$ based on $\\theta \\sim p^{(i-1)}(\\theta)$\n",
    "2. Substitute the prior $p^{(i-1)}(\\theta)$ by $\\hat{p}_{\\phi}^{(i)}(\\theta)$\n",
    "3. Train $\\hat{p}_{\\phi}^{(i+1)}(\\theta \\mid \\mathbf{x})$ based on $\\hat{p}_{\\phi}^{(i)}(\\theta)$\n",
    "4. Iterate until convergence\n",
    "\n",
    "<figure>\n",
    "    <center>\n",
    "    <img src=\"_static/images/illustration_snpe.png\" style=\"width:25%\"/>\n",
    "    <figcaption>Fig. 5 - Illustrating the iterative refinement of the posterior approximation with multi-round inference. Figure obtained JM Lueckmann.</figcaption>\n",
    "</figure>"
   ]
  },
  {
   "cell_type": "markdown",
   "metadata": {
    "slideshow": {
     "slide_type": "slide"
    }
   },
   "source": [
    "## The Problem with SN*E\n",
    "\n",
    " - We want to obtain $\\hat{p}(\\theta \\mid \\mathbf{x}) \\approx p(\\theta \\mid \\mathbf{x})$.\n",
    " - But when altering the prior, we also alter the posterior.\n",
    "    $$\n",
    "        \\bar{\\hat{p}}(\\theta \\mid \\mathbf{x}) \\approx p(\\mathbf{x} \\mid \\theta) \\bar{p}(\\theta)\n",
    "    $$\n",
    " - The divergence of the posterior has to be corrected"
   ]
  },
  {
   "cell_type": "markdown",
   "metadata": {
    "slideshow": {
     "slide_type": "slide"
    }
   },
   "source": [
    "## Popular Methods for SNPE\n",
    "\n",
    "All methods introduce a different method to correct the posterior approximation. \n",
    "\n",
    "- SNPE-A (Papamakarios, Murray, 2016, _\"Fast $\\epsilon$-free Bayesian inference...\"_)\n",
    "- SNPE-B (Lueckmann, Goncalves, et al. 2017, _\"Flexible statistical inference...\"_)\n",
    "- SNPE-C (APT) (Greenberg, Nonnenmacher, Macke, 2019, _\"Automatic posterior transformation...\"_)\n",
    "\n",
    "**Note**: Without the sequential approach, all methods are the same and train by\n",
    "maximizing the log-Likelihood."
   ]
  },
  {
   "cell_type": "markdown",
   "metadata": {
    "slideshow": {
     "slide_type": "slide"
    }
   },
   "source": [
    "## Summary\n",
    "\n",
    "#### Neural Posterior Estimation works by\n",
    "\n",
    "  1. Sampling from the prior $\\theta \\sim p(\\theta)$\n",
    "  2. Drawing samples from the joint by forward propagation $\\mathbf{x} \\sim p(\\mathbf{x}|\\theta)$\n",
    "  3. Train a conditional density estimator $\\hat{p}_{\\phi}(\\theta|\\mathbf{x})$\n",
    "on the samples $\\{ (\\theta, \\mathbf{x}) \\}^N_{i=1}$\n",
    "  4. Evaluate the conditional density estimator at certain observations $\\mathbf{x}_o$\n",
    "\n",
    "#### Benefits \n",
    "\n",
    " - NPE is **amortized** s.t. no re-training is required for new observations;\n",
    "   contrary to ABC\n",
    " - (Embedding) Networks allow to cope with high-dimensional data\n",
    "\n",
    "#### Sequential NPE\n",
    "\n",
    " - Enhances **sample efficiency**\n",
    " - Requires adaptations to correct the diverging posterior"
   ]
  },
  {
   "cell_type": "markdown",
   "metadata": {
    "slideshow": {
     "slide_type": "slide"
    },
    "tags": [
     "remove-cell",
     "remove-cell-nbconv"
    ]
   },
   "source": [
    "<img src=\"_static/images/aai-institute-cover.svg\" alt=\"Snow\" style=\"width:100%;\">\n",
    "<div class=\"md-slide title\">Thank you for the attention!</div>"
   ]
  }
 ],
 "metadata": {
  "celltoolbar": "Slideshow",
  "kernelspec": {
   "display_name": "Python 3 (ipykernel)",
   "language": "python",
   "name": "python3"
  },
  "language_info": {
   "codemirror_mode": {
    "name": "ipython",
    "version": 3
   },
   "file_extension": ".py",
   "mimetype": "text/x-python",
   "name": "python",
   "nbconvert_exporter": "python",
   "pygments_lexer": "ipython3",
   "version": "3.10.13"
  },
  "rise": {
   "footer": "<img src='_static/images/aai-logo.png' alt='logo' height='50em'>",
   "header": "<img src='_static/images/transferlab-logo.svg' alt='logo' height='20em' />",
   "theme": "white"
  },
  "toc": {
   "base_numbering": 1,
   "nav_menu": {
    "height": "148px",
    "width": "256px"
   },
   "number_sections": false,
   "sideBar": true,
   "skip_h1_title": false,
   "title_cell": "Table of Contents",
   "title_sidebar": "Contents",
   "toc_cell": false,
   "toc_position": {
    "height": "563.2px",
    "left": "125px",
    "top": "116.469px",
    "width": "315.6px"
   },
   "toc_section_display": true,
   "toc_window_display": true
  },
  "varInspector": {
   "cols": {
    "lenName": 16,
    "lenType": 16,
    "lenVar": 40
   },
   "kernels_config": {
    "python": {
     "delete_cmd_postfix": "",
     "delete_cmd_prefix": "del ",
     "library": "var_list.py",
     "varRefreshCmd": "print(var_dic_list())"
    },
    "r": {
     "delete_cmd_postfix": ") ",
     "delete_cmd_prefix": "rm(",
     "library": "var_list.r",
     "varRefreshCmd": "cat(var_dic_list()) "
    }
   },
   "types_to_exclude": [
    "module",
    "function",
    "builtin_function_or_method",
    "instance",
    "_Feature"
   ],
   "window_display": false
  }
 },
 "nbformat": 4,
 "nbformat_minor": 1
}
