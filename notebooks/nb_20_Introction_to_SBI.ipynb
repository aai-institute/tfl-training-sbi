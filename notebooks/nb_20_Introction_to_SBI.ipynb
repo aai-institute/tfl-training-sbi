{
 "cells": [
  {
   "cell_type": "code",
   "execution_count": 1,
   "metadata": {
    "hide_input": true,
    "init_cell": true,
    "slideshow": {
     "slide_type": "skip"
    },
    "tags": [
     "remove-input",
     "remove-output",
     "remove-input-nbconv",
     "remove-output-nbconv"
    ]
   },
   "outputs": [],
   "source": [
    "%%capture\n",
    "\n",
    "%load_ext autoreload\n",
    "%autoreload 2\n",
    "%matplotlib inline\n",
    "%load_ext tfl_training_sbi"
   ]
  },
  {
   "cell_type": "code",
   "execution_count": 2,
   "metadata": {
    "hide_input": true,
    "init_cell": true,
    "slideshow": {
     "slide_type": "skip"
    },
    "tags": [
     "remove-input",
     "remove-input-nbconv"
    ]
   },
   "outputs": [
    {
     "data": {
      "text/html": [
       "<style>/*\n",
       "This file is mainly copy-pasta from rise's examples\n",
       "https://github.com/damianavila/RISE/blob/master/examples/rise.css\n",
       "that was further customized for appliedAI purposes\n",
       "*/\n",
       "@import url('https://fonts.googleapis.com/css2?family=Work+Sans:wght@400&display=swap');\n",
       "\n",
       "\n",
       "body {\n",
       "    font-family: 'Work Sans', sans-serif !important;\n",
       "    text-transform: initial !important;\n",
       "    letter-spacing: initial !important;\n",
       "    font-weight: 400 !important;\n",
       "    line-height: 1.5 !important;\n",
       "    text-size-adjust: 100% !important;\n",
       "    ‑webkit‑text‑size‑adjust: 100% !important;\n",
       "}\n",
       "\n",
       "\n",
       ".reveal, div.text_cell_render, .md-slide, .sidebar-wrapper {\n",
       "    font-size: 1.5rem !important;\n",
       "}\n",
       "\n",
       ".navbar-default .navbar-nav > li > a {\n",
       "    color: #00747b !important;\n",
       "}\n",
       "\n",
       ".filename {\n",
       "    font-size: 2.4rem !important;\n",
       "    color: #212529 !important;\n",
       "    font-weight: 600 !important;\n",
       "}\n",
       "\n",
       ".reveal, .md-slide {\n",
       "    color: white !important;\n",
       "}\n",
       "\n",
       "h1, h2 {\n",
       "    color: #00747b !important;\n",
       "}\n",
       "\n",
       "h3, h4, h5, h6 {\n",
       "    color: #808080 !important;\n",
       "}\n",
       "\n",
       ".reveal p, .reveal ol, .reveal dl, .reveal ul,\n",
       "div.text_cell_render {\n",
       "    color: #212529 !important;\n",
       "}\n",
       "\n",
       "/*copied from stackoverflow, better spacing between list items*/\n",
       "li + li {\n",
       "  margin-top: 0.2em;\n",
       "}\n",
       "\n",
       "body.rise-enabled .reveal ol, body.rise-enabled .reveal dl, body.rise-enabled .reveal ul {\n",
       "    margin-left: 0.1em;\n",
       "    margin-top: 0.2em;\n",
       "}\n",
       "\n",
       ".reveal .rendered_html h1:first-child,\n",
       ".reveal .rendered_html h2:first-child,\n",
       ".reveal .rendered_html h3:first-child,\n",
       ".reveal .rendered_html h4:first-child,\n",
       ".reveal .rendered_html h5:first-child {\n",
       "    margin-top: 0.2em;\n",
       "}\n",
       "\n",
       ".CodeMirror-lines, .output_text {\n",
       "    font-size: 1.5rem !important;\n",
       "}\n",
       "\n",
       "\n",
       "h1.plan, h2.plan, h3.plan {\n",
       "    text-align: center;\n",
       "    padding-bottom: 30px;\n",
       "}\n",
       "\n",
       "ul.plan>li>span.plan-bold {\n",
       "    font-size: 110%;\n",
       "    padding: 4px;\n",
       "    font-weight: bold;\n",
       "    background-color: #eee;\n",
       "}\n",
       "\n",
       "ul.plan>li>ul.subplan>li>span.plan-bold {\n",
       "    font-weight: bold;\n",
       "}\n",
       "\n",
       ".plan-strike {\n",
       "    opacity: 0.4;\n",
       "/*    text-decoration: line-through; */\n",
       "}\n",
       "\n",
       "div.plan-container {\n",
       "    display: grid;\n",
       "    grid-template-columns: 50% 50%;\n",
       "}\n",
       "\n",
       "/*\n",
       " * this is to void xarray's html output to show the fallback textual representation\n",
       " * see also\n",
       "   * xarray.md and\n",
       "   * https://github.com/damianavila/RISE/issues/594\n",
       " */\n",
       ".reveal pre.xr-text-repr-fallback {\n",
       "    display: none;\n",
       "}\n",
       "\n",
       "#toc-header, .toc-item li {\n",
       "    margin: auto !important;\n",
       "    color: #808080 !important;\n",
       "}\n",
       "\n",
       "#toc, #toc-wrapper, .toc-item-num, #toc a, .toc {\n",
       "    margin: auto !important;\n",
       "    color: #00747b !important;\n",
       "}\n",
       "\n",
       "#toc-wrapper {\n",
       "    top: auto !important;\n",
       "    bottom: auto !important;\n",
       "    margin-top: 2rem !important;\n",
       "    color: #00747b !important;\n",
       "}\n",
       "\n",
       "\n",
       "#rise-header {\n",
       "    margin: 10px;\n",
       "    left: 5%;\n",
       "}\n",
       "\n",
       "#rise-footer {\n",
       "    margin: 10px;\n",
       "    right: 5%;\n",
       "}\n",
       "\n",
       "#rise-backimage {\n",
       "    opacity: 0.70;\n",
       "}\n",
       "\n",
       ".reveal img {\n",
       "    max-width: 100%;\n",
       "}\n",
       "\n",
       "\n",
       ".md-slide.title {\n",
       "  position: relative;\n",
       "  top: -50%;\n",
       "  margin-left: 5%;\n",
       "}</style>"
      ],
      "text/plain": [
       "<IPython.core.display.HTML object>"
      ]
     },
     "execution_count": 2,
     "metadata": {},
     "output_type": "execute_result"
    }
   ],
   "source": [
    "%presentation_style"
   ]
  },
  {
   "cell_type": "code",
   "execution_count": 3,
   "metadata": {
    "hide_input": true,
    "init_cell": true,
    "slideshow": {
     "slide_type": "skip"
    },
    "tags": [
     "remove-input",
     "remove-output",
     "remove-input-nbconv",
     "remove-output-nbconv"
    ]
   },
   "outputs": [],
   "source": [
    "%%capture\n",
    "\n",
    "%set_random_seed 12"
   ]
  },
  {
   "cell_type": "code",
   "execution_count": 4,
   "metadata": {
    "hide_input": true,
    "init_cell": true,
    "slideshow": {
     "slide_type": "skip"
    },
    "tags": [
     "remove-input-nbconv",
     "remove-cell"
    ]
   },
   "outputs": [
    {
     "data": {
      "text/markdown": [
       "\n",
       "$\\newcommand{\\vect}[1]{{\\mathbf{\\boldsymbol{#1}} }}$\n",
       "$\\newcommand{\\amax}{{\\text{argmax}}}$\n",
       "$\\newcommand{\\P}{{\\mathbb{P}}}$\n",
       "$\\newcommand{\\E}{{\\mathbb{E}}}$\n",
       "$\\newcommand{\\R}{{\\mathbb{R}}}$\n",
       "$\\newcommand{\\Z}{{\\mathbb{Z}}}$\n",
       "$\\newcommand{\\N}{{\\mathbb{N}}}$\n",
       "$\\newcommand{\\C}{{\\mathbb{C}}}$\n",
       "$\\newcommand{\\abs}[1]{{ \\left| #1 \\right| }}$\n",
       "$\\newcommand{\\simpl}[1]{{\\Delta^{#1} }}$\n"
      ],
      "text/plain": [
       "<IPython.core.display.Markdown object>"
      ]
     },
     "metadata": {},
     "output_type": "display_data"
    }
   ],
   "source": [
    "%load_latex_macros"
   ]
  },
  {
   "cell_type": "markdown",
   "metadata": {
    "slideshow": {
     "slide_type": "slide"
    }
   },
   "source": [
    "<img src=\"_static/images/aai-institute-cover.svg\" alt=\"Snow\" style=\"width:100%;\">\n",
    "<div class=\"md-slide title\">\n",
    "    Introduction to Simulation-Based Inference\n",
    "</div>\n",
    "<div class=\"md-slide title\">\n",
    "    \n",
    "</div>\n",
    "<div class=\"md-slide title\">\n",
    "    Bayesian Inference for Simulation-Based Models\n",
    "</div>"
   ]
  },
  {
   "cell_type": "markdown",
   "metadata": {
    "slideshow": {
     "slide_type": "slide"
    }
   },
   "source": [
    "# Simulators are abundant in science and engineering\n",
    "\n",
    "<img src=\"_static/images/simulator_scales.png\" alt=\"Snow\" style=\"width:100%;\">\n",
    "\n",
    "TODO: Add engineering / industry example figure\n",
    "\n"
   ]
  },
  {
   "cell_type": "markdown",
   "metadata": {
    "slideshow": {
     "slide_type": "subslide"
    }
   },
   "source": [
    "# What are simulation-based models?\n",
    "- explicit models, e.g., ODEs, PDEs: \"simulator as numerical solver\"\n",
    " \n",
    "- implicit models: \"simulator as black-box computer simulation\"\n",
    "\n",
    "- anything in-between: input parameter $\\theta$ output simulated data $x$\n",
    "\n",
    "\\begin{equation}\n",
    "    x = simulator(\\theta)\n",
    "\\end{equation}\n"
   ]
  },
  {
   "cell_type": "markdown",
   "metadata": {
    "slideshow": {
     "slide_type": "subslide"
    }
   },
   "source": [
    "# What are simulation-based models used for?\n",
    "- scientific discovery (TODO: show as loop in figure): \n",
    "    - conduct experiments -> observed data\n",
    "    - implement hypothesis as simulator -> simulated data\n",
    "    - compare and adapt hypothesis\n",
    "    - conclusion and new experiments\n",
    "- forecasting, emulation\n",
    "    - build simulator to emulate experiments (TODO: industry example)\n",
    "    - make predictions\n"
   ]
  },
  {
   "cell_type": "markdown",
   "metadata": {
    "slideshow": {
     "slide_type": "subslide"
    }
   },
   "source": [
    "# Example: Simulating pandemics with the SIR model\n",
    "\n",
    "- Models epidemiological dynamics -> used during covid-19\n",
    "- Three states: **S**usceptible **I**nfected **R**ecovered\n",
    "\n",
    "<img src=\"_static/images/sir.png\" alt=\"Snow\" style=\"width:100%;\">\n",
    "\n",
    "Dehning et al., Science, 2020"
   ]
  },
  {
   "cell_type": "markdown",
   "metadata": {
    "slideshow": {
     "slide_type": "subslide"
    }
   },
   "source": [
    "# Example: Simulating pandemics with the SIR model\n",
    "\n",
    "- Models epidemiological dynamics -> used during covid-19\n",
    "- Three states: **S**usceptible **I**nfected **R**ecovered\n",
    "\n",
    "<img src=\"_static/images/covid_modelling.jpg\" alt=\"Snow\" style=\"width:100%;\">\n",
    "\n",
    "Dehning et al., Science, 2020"
   ]
  },
  {
   "cell_type": "markdown",
   "metadata": {
    "slideshow": {
     "slide_type": "subslide"
    }
   },
   "source": [
    "# Example: Simulating pandemics with the SIR model\n",
    "\n",
    "- Initial condition: $S=N-1,\\; I=1,\\; R=0$\n",
    "- Infection rate $\\beta$\n",
    "- Recovery rate $\\gamma$\n",
    "- Population size $N$\n",
    "\n",
    "\\begin{equation}\n",
    "N = 100000\\\\\n",
    "\\beta \\sim \\text{LogNormal}(\\log(0.4), 0.5)\\\\ \n",
    "\\gamma \\sim \\text{LogNormal}(\\log(1/8), 0.2) \\\\[5mm]\n",
    "\\frac{dS}{dt} = -\\beta \\frac{SI}{N} \\\\ \n",
    "\\frac{dI}{dt} = \\beta \\frac{S I}{N} - \\gamma I\\\\ \n",
    "\\frac{dR}{dt} = \\gamma I\n",
    "\\end{equation}"
   ]
  },
  {
   "cell_type": "markdown",
   "metadata": {
    "slideshow": {
     "slide_type": "subslide"
    }
   },
   "source": [
    "# Central challenge: find parameters $\\theta$ that reproduce data $x$\n",
    "\n",
    "- search single-best fitting parameters (hand-tuning, grid-search, optimization)? \n",
    "    - does not scale to high-dimensional problems\n",
    "    - what about uncertainty in data (aleatoric) and parameter estimates (epistemic)? \n",
    "    - what if there are multiple solutions? \n",
    "- ...? "
   ]
  },
  {
   "cell_type": "markdown",
   "metadata": {
    "slideshow": {
     "slide_type": "subslide"
    }
   },
   "source": [
    "<img src=\"_static/images/drake_pro_bayesian_inference.jpeg\" alt=\"Snow\" style=\"width:50%;\">"
   ]
  },
  {
   "cell_type": "markdown",
   "metadata": {
    "slideshow": {
     "slide_type": "subslide"
    }
   },
   "source": [
    "# Central challenge: find parameters $\\theta$ that reproduce data $x$\n",
    "\n",
    "## ~~search single best-fitting parameters~~\n",
    "    \n",
    "## Bayesian inference\n",
    "- infer posterior over parameters $\\theta$ conditioned on data $x$.\n",
    "\\begin{equation}\n",
    "\\frac{p(\\theta |x) \\; p(\\theta)}{p(x)}\n",
    "\\end{equation}\n",
    "\n",
    "- infers all suitable model parameters\n",
    "    - multimodal posteriors\n",
    "- quantification of parameter uncertainty\n",
    "    - posterior covariance structure\n",
    "- TODO: show example posterior"
   ]
  },
  {
   "cell_type": "markdown",
   "metadata": {
    "slideshow": {
     "slide_type": "slide"
    }
   },
   "source": [
    "# Bayesian inference for simulation-based models\n",
    "\n",
    "### Difficult because likelihood usually not accessible\n",
    "\n",
    "- ODEs / black-box simulators do not have analytical expression for the likelihood $p(x | \\theta)$\n",
    "- **MCMC** or **variational inference** cannot be applied! \n",
    "\n",
    "### Idea: use access to simulated data to circumvent lack of likelihood-access\n",
    "- \"likelihood-free\" inference\n",
    "- **Approximate Bayesian Computatin (ABC, Part 1)**\n",
    "- **Simulation-Based Inference (SBI, Part 2)**\n"
   ]
  },
  {
   "cell_type": "markdown",
   "metadata": {
    "slideshow": {
     "slide_type": "subslide"
    }
   },
   "source": [
    "# Approximate Bayesian Computation (ABC)\n",
    "\n",
    "## rejection sampling\n",
    "\n",
    "<img src=\"_static/images/ABC_concept_figure.pdf\" alt=\"Snow\" style=\"width:100%;\">\n",
    "\n",
    "Diggle et al. (1984), Beaumont et al. (2002), Figure from Boelts (2023)"
   ]
  },
  {
   "cell_type": "markdown",
   "metadata": {
    "slideshow": {
     "slide_type": "subslide"
    }
   },
   "source": [
    "## Approximate Bayesian Computation (ABC)\n",
    "\n",
    "<img src=\"_static/images/ABC_algorithm.png\" alt=\"Snow\" style=\"width:100%;\">"
   ]
  },
  {
   "cell_type": "markdown",
   "metadata": {
    "slideshow": {
     "slide_type": "slide"
    }
   },
   "source": [
    "# Exercise 1: Implement rejection ABC for the SIR model\n",
    "\n",
    "<img src=\"_static/images/sir.png\" alt=\"Snow\" style=\"width:60%;\">\n",
    "\n",
    "- Infection rate $\\beta$\n",
    "- Recovery rate $\\gamma$\n",
    "- Population size $N$\n",
    "- Initial condition: $N=100000, \\; S=N-1,\\; I=1,\\; R=0$\n",
    "\n",
    "\\begin{equation}\n",
    "\\frac{dS}{dt} = -\\beta \\frac{SI}{N} \\\\ \n",
    "\\frac{dI}{dt} = \\beta \\frac{S I}{N} - \\gamma I\\\\ \n",
    "\\frac{dR}{dt} = \\gamma I\n",
    "\\end{equation}\n"
   ]
  },
  {
   "cell_type": "markdown",
   "metadata": {
    "slideshow": {
     "slide_type": "slide"
    }
   },
   "source": [
    "# Exercise 1: Implement rejection ABC for the SIR model\n",
    "\n",
    "- **Task**: \n",
    "    - we collected some PCR test results $x_o$\n",
    "    - use the rejection ABC algorithm to infer the underlying rate $\\beta$ and $\\gamma$\n",
    "\n",
    "- **Setup**\n",
    "    - prior and simulator are given:\n",
    "    - $x = $ \"10 evenly spaced samples in time from the infectious group $I$.\"\n",
    "    \n",
    "\\begin{equation}\n",
    "\\theta_i \\sim p(\\theta) = p(\\beta)p(\\gamma) \\\\[3mm]\n",
    "x_i | \\theta_i \\sim \\text{SIR}(\\beta_i, \\gamma_i)\n",
    "\\end{equation}"
   ]
  },
  {
   "cell_type": "code",
   "execution_count": 68,
   "metadata": {
    "slideshow": {
     "slide_type": "subslide"
    }
   },
   "outputs": [],
   "source": [
    "from torch.distributions import LogNormal\n",
    "from torch import Tensor, log, ones, zeros\n",
    "\n",
    "# Define a prior over beta and gamma\n",
    "def get_prior_samples(num_samples: int) -> Tensor:\n",
    "#     beta = LogNormal(loc=log(0.4 * ones(1)), scale=0.5 * ones(1)).sample((num_samples,))\n",
    "#     gamma = LogNormal(loc=log(0.125 * ones(1)), scale=0.2 * ones(1)).sample((num_samples,))\n",
    "#     return torch.hstack((beta, gamma))\n",
    "    return torch.randn(num_samples, 2)\n",
    "\n",
    "# TODO: pseudo simulator by drawing from pre-simulated data.\n",
    "def sir_simulator(theta):\n",
    "    return 0.1 * torch.randn_like(theta) + theta\n",
    "\n",
    "# Simulate observed data. \n",
    "true_theta = get_prior_samples(1)\n",
    "x_o = sir_simulator(true_theta)"
   ]
  },
  {
   "cell_type": "code",
   "execution_count": 69,
   "metadata": {},
   "outputs": [],
   "source": [
    "## Exercise\n",
    "\n",
    "# TODO: define distance function\n",
    "def distance(x: Tensor, x_o: Tensor) -> Tensor: \n",
    "    pass\n",
    "\n",
    "# TODO: Implement rejection ABC"
   ]
  },
  {
   "cell_type": "code",
   "execution_count": 73,
   "metadata": {
    "slideshow": {
     "slide_type": "subslide"
    }
   },
   "outputs": [],
   "source": [
    "## Solution\n",
    "\n",
    "# imports\n",
    "import numpy as np\n",
    "import torch\n",
    "import matplotlib.pyplot as plt\n",
    "\n",
    "# define distance function\n",
    "def distance(x, x_o): \n",
    "    return torch.mean((x - x_o)**2, 1)\n",
    "\n",
    "# define epsilon \n",
    "eps = 5e-3\n",
    "\n",
    "posterior_samples = []\n",
    "N = 100000\n",
    "for i in range(N):\n",
    "    theta_i = get_prior_samples(1)\n",
    "    x_i = sir_simulator(theta_i)\n",
    "    \n",
    "    if distance(x_i, x_o) < eps:\n",
    "        posterior_samples.append(theta_i)\n",
    "        \n",
    "posterior_samples = torch.cat(posterior_samples)"
   ]
  },
  {
   "cell_type": "code",
   "execution_count": 80,
   "metadata": {
    "slideshow": {
     "slide_type": "subslide"
    }
   },
   "outputs": [
    {
     "data": {
      "image/png": "[encoded data removed]",
      "text/plain": [
       "<Figure size 640x480 with 1 Axes>"
      ]
     },
     "metadata": {},
     "output_type": "display_data"
    }
   ],
   "source": [
    "num_prior_samples = 2000\n",
    "plt.scatter(theta[:num_prior_samples, 0], theta[:num_prior_samples, 1], s=5, alpha=0.5, label=\"prior\")\n",
    "plt.scatter(posterior_samples[:, 0], posterior_samples[:, 1], s=5, label=\"ABC-posterior\")\n",
    "plt.scatter(x_o[:, 0],  x_o[:, 1], marker=\"x\", color=\"k\", label=\"x_o\")\n",
    "plt.legend();"
   ]
  },
  {
   "cell_type": "markdown",
   "metadata": {
    "slideshow": {
     "slide_type": "slide"
    },
    "tags": [
     "remove-cell",
     "remove-cell-nbconv"
    ]
   },
   "source": [
    "<img src=\"_static/images/aai-institute-cover.svg\" alt=\"Snow\" style=\"width:100%;\">\n",
    "<div class=\"md-slide title\">Thank you for the attention!</div>"
   ]
  },
  {
   "cell_type": "code",
   "execution_count": null,
   "metadata": {},
   "outputs": [],
   "source": []
  }
 ],
 "metadata": {
  "celltoolbar": "Slideshow",
  "kernelspec": {
   "display_name": "Python 3 (ipykernel)",
   "language": "python",
   "name": "python3"
  },
  "language_info": {
   "codemirror_mode": {
    "name": "ipython",
    "version": 3
   },
   "file_extension": ".py",
   "mimetype": "text/x-python",
   "name": "python",
   "nbconvert_exporter": "python",
   "pygments_lexer": "ipython3",
   "version": "3.9.16"
  },
  "rise": {
   "footer": "<img src='_static/images/aai-logo.png' alt='logo' height='50em'>",
   "header": "<img src='_static/images/transferlab-logo.svg' alt='logo' height='20em' />",
   "theme": "white"
  },
  "toc": {
   "base_numbering": 1,
   "nav_menu": {
    "height": "148px",
    "width": "256px"
   },
   "number_sections": false,
   "sideBar": true,
   "skip_h1_title": false,
   "title_cell": "Table of Contents",
   "title_sidebar": "Contents",
   "toc_cell": false,
   "toc_position": {
    "height": "563.2px",
    "left": "125px",
    "top": "116.469px",
    "width": "315.6px"
   },
   "toc_section_display": true,
   "toc_window_display": true
  },
  "varInspector": {
   "cols": {
    "lenName": 16,
    "lenType": 16,
    "lenVar": 40
   },
   "kernels_config": {
    "python": {
     "delete_cmd_postfix": "",
     "delete_cmd_prefix": "del ",
     "library": "var_list.py",
     "varRefreshCmd": "print(var_dic_list())"
    },
    "r": {
     "delete_cmd_postfix": ") ",
     "delete_cmd_prefix": "rm(",
     "library": "var_list.r",
     "varRefreshCmd": "cat(var_dic_list()) "
    }
   },
   "types_to_exclude": [
    "module",
    "function",
    "builtin_function_or_method",
    "instance",
    "_Feature"
   ],
   "window_display": false
  }
 },
 "nbformat": 4,
 "nbformat_minor": 1
}
